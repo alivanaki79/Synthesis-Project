{
  "nbformat": 4,
  "nbformat_minor": 0,
  "metadata": {
    "colab": {
      "provenance": []
    },
    "kernelspec": {
      "name": "python3",
      "display_name": "Python 3"
    },
    "language_info": {
      "name": "python"
    }
  },
  "cells": [
    {
      "cell_type": "markdown",
      "source": [
        "#**Implementation of the article \"Synthesis of Loop-free Programs(Brahma)\":**"
      ],
      "metadata": {
        "id": "IC5xMgHmv9PQ"
      }
    },
    {
      "cell_type": "markdown",
      "source": [
        "The provided codes implement a system for program synthesis using the Z3 solver. The goal of this system is to automatically generate programs that satisfy given specifications by composing operations from a standard library of components."
      ],
      "metadata": {
        "id": "KP8gec88e_Nr"
      }
    },
    {
      "cell_type": "markdown",
      "source": [
        "First, we install z3-solver."
      ],
      "metadata": {
        "id": "f-AMcNMavwi3"
      }
    },
    {
      "cell_type": "code",
      "source": [
        "!pip install z3-solver"
      ],
      "metadata": {
        "colab": {
          "base_uri": "https://localhost:8080/"
        },
        "id": "h3t5UmM5Drn1",
        "outputId": "59801848-d0e0-4f69-8119-b7c872734a11"
      },
      "execution_count": 7,
      "outputs": [
        {
          "output_type": "stream",
          "name": "stdout",
          "text": [
            "Collecting z3-solver\n",
            "  Downloading z3_solver-4.13.0.0-py2.py3-none-manylinux2014_x86_64.whl (57.3 MB)\n",
            "\u001b[2K     \u001b[90m━━━━━━━━━━━━━━━━━━━━━━━━━━━━━━━━━━━━━━━━\u001b[0m \u001b[32m57.3/57.3 MB\u001b[0m \u001b[31m10.2 MB/s\u001b[0m eta \u001b[36m0:00:00\u001b[0m\n",
            "\u001b[?25hInstalling collected packages: z3-solver\n",
            "Successfully installed z3-solver-4.13.0.0\n"
          ]
        }
      ]
    },
    {
      "cell_type": "markdown",
      "source": [
        "----\n",
        "----"
      ],
      "metadata": {
        "id": "AdwP2l_jqY-a"
      }
    },
    {
      "cell_type": "markdown",
      "source": [
        "##**Component**\n",
        "\n",
        "This file defines a set of components that can be used to build programs. Each component represents a basic operation (e.g., addition, subtraction, bitwise operations).\n",
        "\n",
        "Component Class: An abstract base class that all specific components inherit from. It defines the interface for the components, including:\n",
        "\n",
        "semantics(self, *args): Abstract method to define the behavior of the component.\n",
        "\n",
        "expression(self, *args, model) -> str: Abstract method to define the string representation of the component's operation.\n",
        "\n",
        "parameters(self): Method to return the parameters of the component (default is empty).\n",
        "\n",
        "Specific Components: Each subclass (e.g., Add, Sub, Inc, Dec) implements the semantics and expression methods to define its specific operation. For example:\n",
        "\n",
        "Add: Represents the addition operation.\n",
        "\n",
        "Sub: Represents the subtraction operation.\n",
        "\n",
        "Inc: Represents the increment operation.\n",
        "\n",
        "Dec: Represents the decrement operation.\n",
        "\n",
        "And, Or, Not, Xor: Represent bitwise operations.\n",
        "\n",
        "SignBit, NegSignBit: Extract and negate the sign bit of a number.\n",
        "\n",
        "Ule, Ugt: Represent unsigned comparison operations using Z3.\n",
        "\n",
        "Standard Library: The std_lib(ctx) function returns a list of all the defined components that can be used to synthesize programs."
      ],
      "metadata": {
        "id": "5U4HFDfjfCNH"
      }
    },
    {
      "cell_type": "code",
      "source": [
        "# component.py\n",
        "%%writefile component.py\n",
        "from abc import ABC, abstractmethod\n",
        "from typing import List\n",
        "from inspect import getargspec\n",
        "import z3\n",
        "\n",
        "# Abstract base class for components\n",
        "class Component(ABC):\n",
        "    def __init__(self, name: str, ctx) -> None:\n",
        "        self.name = name  # Component name\n",
        "        # Determine the arity (number of arguments) of the semantics method\n",
        "        self.arity = len(getargspec(self.semantics)[0]) - 1\n",
        "        self.ctx = ctx  # Z3 context\n",
        "\n",
        "    @abstractmethod\n",
        "    def semantics(self, *args):\n",
        "        # Define the behavior (semantics) of the component\n",
        "        raise NotImplementedError\n",
        "\n",
        "    @abstractmethod\n",
        "    def expression(self, *args, model) -> str:\n",
        "        # Define the string representation of the component's operation\n",
        "        raise NotImplementedError\n",
        "\n",
        "    def parameters(self):\n",
        "        # Return the parameters of the component (default is empty)\n",
        "        return ()\n",
        "\n",
        "# Define a set of components with specific operations\n",
        "class Add(Component):\n",
        "    def __init__(self, ctx):\n",
        "        super().__init__('add', ctx)\n",
        "\n",
        "    def semantics(self, a, b):\n",
        "        # Addition operation\n",
        "        return a + b\n",
        "\n",
        "    def expression(self, a, b, model) -> str:\n",
        "        # String representation of addition\n",
        "        return f'{a} + {b}'\n",
        "\n",
        "class Sub(Component):\n",
        "    def __init__(self, ctx):\n",
        "        super().__init__('sub', ctx)\n",
        "\n",
        "    def semantics(self, a, b):\n",
        "        # Subtraction operation\n",
        "        return a - b\n",
        "\n",
        "    def expression(self, a, b, model) -> str:\n",
        "        # String representation of subtraction\n",
        "        return f'{a} - {b}'\n",
        "\n",
        "class Inc(Component):\n",
        "    def __init__(self, ctx):\n",
        "        super().__init__('inc', ctx)\n",
        "\n",
        "    def semantics(self, a):\n",
        "        # Increment operation\n",
        "        return a + 1\n",
        "\n",
        "    def expression(self, a, model) -> str:\n",
        "        # String representation of increment\n",
        "        return f'{a} + 1'\n",
        "\n",
        "class Dec(Component):\n",
        "    def __init__(self, ctx):\n",
        "        super().__init__('dec', ctx)\n",
        "\n",
        "    def semantics(self, a):\n",
        "        # Decrement operation\n",
        "        return a - 1\n",
        "\n",
        "    def expression(self, a, model) -> str:\n",
        "        # String representation of decrement\n",
        "        return f'{a} - 1'\n",
        "\n",
        "class Neg(Component):\n",
        "    def __init__(self, ctx):\n",
        "        super().__init__('neg', ctx)\n",
        "\n",
        "    def semantics(self, a):\n",
        "        # Negation operation\n",
        "        return -a\n",
        "\n",
        "    def expression(self, a, model) -> str:\n",
        "        # String representation of negation\n",
        "        return f'-{a}'\n",
        "\n",
        "class And(Component):\n",
        "    def __init__(self, ctx):\n",
        "        super().__init__('and', ctx)\n",
        "\n",
        "    def semantics(self, a, b):\n",
        "        # Bitwise AND operation\n",
        "        return a & b\n",
        "\n",
        "    def expression(self, a, b, model) -> str:\n",
        "        # String representation of bitwise AND\n",
        "        return f'{a} & {b}'\n",
        "\n",
        "class Or(Component):\n",
        "    def __init__(self, ctx):\n",
        "        super().__init__('or', ctx)\n",
        "\n",
        "    def semantics(self, a, b):\n",
        "        # Bitwise OR operation\n",
        "        return a | b\n",
        "\n",
        "    def expression(self, a, b, model) -> str:\n",
        "        # String representation of bitwise OR\n",
        "        return f'{a} | {b}'\n",
        "\n",
        "class Not(Component):\n",
        "    def __init__(self, ctx):\n",
        "        super().__init__('not', ctx)\n",
        "\n",
        "    def semantics(self, a):\n",
        "        # Bitwise NOT operation\n",
        "        return ~a\n",
        "\n",
        "    def expression(self, a, model) -> str:\n",
        "        # String representation of bitwise NOT\n",
        "        return f'~{a}'\n",
        "\n",
        "class Xor(Component):\n",
        "    def __init__(self, ctx):\n",
        "        super().__init__('xor', ctx)\n",
        "\n",
        "    def semantics(self, a, b):\n",
        "        # Bitwise XOR operation\n",
        "        return a ^ b\n",
        "\n",
        "    def expression(self, a, b, model) -> str:\n",
        "        # String representation of bitwise XOR\n",
        "        return f'{a} ^ {b}'\n",
        "\n",
        "class SignBit(Component):\n",
        "    def __init__(self, ctx):\n",
        "        super().__init__('signbit', ctx)\n",
        "\n",
        "    def semantics(self, a):\n",
        "        # Get the sign bit (assuming 32-bit integer)\n",
        "        return a >> 31\n",
        "\n",
        "    def expression(self, a, model) -> str:\n",
        "        # String representation of sign bit extraction\n",
        "        return f'{a} >>> 31'\n",
        "\n",
        "class NegSignBit(Component):\n",
        "    def __init__(self, ctx):\n",
        "        super().__init__('negsignbit', ctx)\n",
        "\n",
        "    def semantics(self, a):\n",
        "        # Get the negated sign bit (assuming 32-bit integer)\n",
        "        return -(a >> 31)\n",
        "\n",
        "    def expression(self, a, model) -> str:\n",
        "        # String representation of negated sign bit extraction\n",
        "        return f'{a} >> 31'\n",
        "\n",
        "class Ule(Component):\n",
        "    def __init__(self, ctx):\n",
        "        super().__init__('ule', ctx)\n",
        "\n",
        "    def semantics(self, a, b):\n",
        "        # Unsigned less than or equal operation using Z3\n",
        "        return z3.If(z3.ULE(a, b), z3.BitVecVal(-1, 32, self.ctx), z3.BitVecVal(0, 32, self.ctx))\n",
        "\n",
        "    def expression(self, a, b, model) -> str:\n",
        "        # String representation of unsigned less than or equal\n",
        "        return f'-((unsigned){a} <= (unsigned){b})'\n",
        "\n",
        "class Ugt(Component):\n",
        "    def __init__(self, ctx):\n",
        "        super().__init__('ugt', ctx)\n",
        "\n",
        "    def semantics(self, a, b):\n",
        "        # Unsigned greater than operation using Z3\n",
        "        return z3.If(z3.UGT(a, b), z3.BitVecVal(-1, 32, self.ctx), z3.BitVecVal(0, 32, self.ctx))\n",
        "\n",
        "    def expression(self, a, b, model) -> str:\n",
        "        # String representation of unsigned greater than\n",
        "        return f'-((unsigned){a} > (unsigned){b})'\n",
        "\n",
        "class IfThenElse(Component):\n",
        "    def __init__(self, ctx):\n",
        "        super().__init__('if-then-else', ctx)\n",
        "\n",
        "    def semantics(self, a, b, c):\n",
        "        # If-Then-Else operation using Z3\n",
        "        return z3.If(a != 0, b, c)\n",
        "\n",
        "    def expression(self, a, b, c, model) -> str:\n",
        "        # String representation of If-Then-Else\n",
        "        return f'{a} ? {b} : {c}'\n",
        "\n",
        "class Constant(Component):\n",
        "    def __init__(self, value, ctx):\n",
        "        super().__init__(f'const({value})', ctx)\n",
        "        self.value = value\n",
        "\n",
        "    def semantics(self):\n",
        "        # Return the constant value\n",
        "        return self.value\n",
        "\n",
        "    def expression(self, model) -> str:\n",
        "        # String representation of constant\n",
        "        return f'{self.value}'\n",
        "\n",
        "class VaradicConstant(Component):\n",
        "    def __init__(self, ctx):\n",
        "        super().__init__(f'varconst', ctx)\n",
        "        self.value = z3.BitVec(f'varconst_{id(self)}', 32, ctx=self.ctx)\n",
        "\n",
        "    def semantics(self):\n",
        "        # Return the variable constant value\n",
        "        return self.value\n",
        "\n",
        "    def expression(self, model) -> str:\n",
        "        # String representation of variable constant\n",
        "        return f'{model.eval(self.value, True)}'\n",
        "\n",
        "    def parameters(self):\n",
        "        # Return the parameters of the variable constant\n",
        "        return (self.value,)\n",
        "\n",
        "# Function to return the standard library of components\n",
        "def std_lib(ctx):\n",
        "    return [\n",
        "        Add(ctx),\n",
        "        Sub(ctx),\n",
        "        Inc(ctx),\n",
        "        Dec(ctx),\n",
        "        And(ctx),\n",
        "        Or(ctx),\n",
        "        Not(ctx),\n",
        "        Xor(ctx),\n",
        "        SignBit(ctx),\n",
        "        NegSignBit(ctx),\n",
        "        Ugt(ctx),\n",
        "        Ule(ctx),\n",
        "    ]\n"
      ],
      "metadata": {
        "colab": {
          "base_uri": "https://localhost:8080/"
        },
        "id": "dNEP4GsXL7Mt",
        "outputId": "e0ca9cb5-e40c-4f5b-9e74-5545b04d5c7e"
      },
      "execution_count": 8,
      "outputs": [
        {
          "output_type": "stream",
          "name": "stdout",
          "text": [
            "Overwriting component.py\n"
          ]
        }
      ]
    },
    {
      "cell_type": "markdown",
      "source": [
        "----\n",
        "----"
      ],
      "metadata": {
        "id": "KIKGiKf3jP2N"
      }
    },
    {
      "cell_type": "markdown",
      "source": [
        "##**Program**\n",
        "\n",
        "This file defines the representation of a synthesized program.\n",
        "\n",
        "Instruction Class: Represents a single operation in the program, storing the component and its arguments.\n",
        "\n",
        "Program Class: Represents the entire program and provides methods to construct the program and generate a string representation.\n",
        "\n",
        "The constructor initializes the program from a Z3 model and the list of components.\n",
        "\n",
        "The __ repr __ method generates a string representation of the program in Python syntax.\n",
        "\n"
      ],
      "metadata": {
        "id": "ProrCOiQfmi8"
      }
    },
    {
      "cell_type": "code",
      "source": [
        "# program.py\n",
        "%%writefile program.py\n",
        "from typing import List\n",
        "import z3\n",
        "from component import Component\n",
        "\n",
        "# Instruction class to represent a single operation in the program\n",
        "class Instruction:\n",
        "    def __init__(self, component: Component, args: List) -> None:\n",
        "        self.reached = False  # Whether this instruction has been reached during evaluation\n",
        "        self.component = component  # The component (operation) of this instruction\n",
        "        self.args = args  # Arguments to the component\n",
        "\n",
        "# Program class to represent the synthesized program\n",
        "class Program:\n",
        "    def __id2name(self, ident: int) -> str:\n",
        "        # Convert an identifier to a variable name\n",
        "        if ident < self.nInput:\n",
        "            return f'x{ident}'\n",
        "        else:\n",
        "            return f'v{ident - self.nInput}'\n",
        "\n",
        "    def __init__(self, nInput, model, lPR, lOutput, lib) -> None:\n",
        "        self.model = model  # Z3 model\n",
        "        self.nInput = nInput  # Number of inputs\n",
        "        self.lOutput = model[lOutput].as_long()  # Output location\n",
        "        self.sloc = 0  # Source lines of code (SLOC) count\n",
        "\n",
        "        # Initialize instructions from the model\n",
        "        instrs = [None] * len(lib)\n",
        "        for (lParams, lRet), comp in zip(lPR, lib):\n",
        "            lParamVals = [model[lParam].as_long() for lParam in lParams]\n",
        "            lRetVal = model[lRet].as_long()\n",
        "            instrs[lRetVal - nInput] = Instruction(comp, lParamVals)\n",
        "        self.instructions = instrs\n",
        "\n",
        "        # Visit each instruction to mark as reached\n",
        "        def visiting(ident: int) -> None:\n",
        "            if ident < nInput: return\n",
        "            instr = instrs[ident - nInput]\n",
        "            if instr.reached: return\n",
        "            for sid in instr.args:\n",
        "                visiting(sid)\n",
        "            instr.reached = True\n",
        "            self.sloc += 1\n",
        "\n",
        "        visiting(self.lOutput)\n",
        "\n",
        "    def __repr__(self) -> str:\n",
        "        # Create a string representation of the program\n",
        "        model = self.model\n",
        "        prog = [f\"def f({', '.join(map(self.__id2name, range(self.nInput)))}):\"]\n",
        "        for ident, instr in enumerate(self.instructions):\n",
        "            if instr.reached:\n",
        "                prog.append(f'    v{ident} = ' + instr.component.expression(*map(self.__id2name, instr.args), model))\n",
        "        prog.append(f'    return {self.__id2name(self.lOutput)}')\n",
        "        return '\\n'.join(prog)\n"
      ],
      "metadata": {
        "colab": {
          "base_uri": "https://localhost:8080/"
        },
        "id": "DFCSV-VcMBA-",
        "outputId": "a079f932-6c95-4dd5-dabe-9f3a66b70c84"
      },
      "execution_count": 9,
      "outputs": [
        {
          "output_type": "stream",
          "name": "stdout",
          "text": [
            "Overwriting program.py\n"
          ]
        }
      ]
    },
    {
      "cell_type": "markdown",
      "source": [
        "----\n",
        "----"
      ],
      "metadata": {
        "id": "6qsj-lbUytHH"
      }
    },
    {
      "cell_type": "markdown",
      "source": [
        "##**Synthesis**\n",
        "\n",
        "This file manages the synthesis process, using Z3 to construct programs that meet a given specification.\n",
        "\n",
        "Constraint Functions:\n",
        "\n",
        "wfp_cons(lInput, lPR, lOutput): Creates well-formedness constraints to ensure the program structure is valid.\n",
        "\n",
        "conn_cons(lInput, lPR, lOutput, vInput, vPR, vOutput): Creates connection constraints to ensure the logical flow of the program.\n",
        "\n",
        "lib_cons(vPR, lib): Creates library constraints to enforce the semantics of the components.\n",
        "\n",
        "Synthesizer Class: Manages the entire synthesis process.\n",
        "\n",
        "The constructor initializes the synthesizer with the number of inputs, the specification, and the component library.\n",
        "\n",
        "The synthesize method iteratively searches for a program that satisfies the specification using Z3 solvers.\n",
        "\n",
        "The synthesize_shortest method finds the shortest program that meets the specification by progressively refining the search."
      ],
      "metadata": {
        "id": "g95pl6higH1u"
      }
    },
    {
      "cell_type": "code",
      "source": [
        "# synthesis.py\n",
        "%%writefile synthesis.py\n",
        "from typing import List, Tuple\n",
        "import z3\n",
        "from component import Component, std_lib\n",
        "from program import Program\n",
        "\n",
        "# Function to create well-formedness constraints\n",
        "def wfp_cons(lInput: List, lPR: List[Tuple], lOutput):\n",
        "    cons = []\n",
        "    nInput = len(lInput)\n",
        "    nLib = len(lPR)\n",
        "    # Ensure parameters and return values are within valid range\n",
        "    for lParams, lRet in lPR:\n",
        "        for lParam in lParams:\n",
        "            cons.append(z3.And(0 <= lParam, lParam < nInput + nLib))\n",
        "        cons.append(z3.And(nInput <= lRet, lRet < nInput + nLib))\n",
        "    cons.append(z3.And(0 <= lOutput, lOutput < nInput + nLib))\n",
        "    # Ensure input values are correctly assigned\n",
        "    for i, lInp in enumerate(lInput):\n",
        "        cons.append(lInp == i)\n",
        "    # Ensure return values are unique\n",
        "    lRets = tuple(zip(*lPR))[1]\n",
        "    for i in range(len(lRets)):\n",
        "        for j in range(i):\n",
        "            cons.append(lRets[i] != lRets[j])\n",
        "    # Ensure parameters are ordered before return values\n",
        "    for lParams, lRet in lPR:\n",
        "        for lParam in lParams:\n",
        "            cons.append(lParam < lRet)\n",
        "    return z3.And(*cons)\n",
        "\n",
        "# Function to create connection constraints\n",
        "def conn_cons(lInput: List, lPR: List[Tuple], lOutput, vInput: List, vPR: List[Tuple], vOutput):\n",
        "    cons = []\n",
        "    lList = lInput + [lOutput]\n",
        "    for lParams, lRet in lPR:\n",
        "        lList += lParams\n",
        "        lList.append(lRet)\n",
        "    vList = vInput + [vOutput]\n",
        "    for vParams, vRet in vPR:\n",
        "        vList += vParams\n",
        "        vList.append(vRet)\n",
        "    n = len(lList)\n",
        "    assert n == len(vList)\n",
        "    # Ensure that corresponding locations in the program map to corresponding values\n",
        "    for i in range(n):\n",
        "        for j in range(i):\n",
        "            cons.append(z3.Implies(lList[i] == lList[j], vList[i] == vList[j]))\n",
        "    return z3.And(*cons)\n",
        "\n",
        "# Function to create library constraints\n",
        "def lib_cons(vPR: List[Tuple], lib: List[Component]):\n",
        "    cons = []\n",
        "    # Ensure that the semantics of each component hold\n",
        "    for (vParam, vRet), comp in zip(vPR, lib):\n",
        "        cons.append(vRet == comp.semantics(*vParam))\n",
        "    return z3.And(*cons)\n",
        "\n",
        "# Synthesizer class to manage the synthesis process\n",
        "class Synthesizer:\n",
        "    def __init__(self, nInput, spec, lib=std_lib):\n",
        "        self.nInput = nInput  # Number of inputs\n",
        "        self.ctx = z3.Context()  # Z3 context\n",
        "        self.lib = lib(self.ctx)  # Component library\n",
        "        self.spec = lambda vInput, vOutput: spec(vOutput, *vInput)  # Specification\n",
        "\n",
        "    def synthesize(self, max_len=None, max_iter=1000, timeout=120000):\n",
        "        lib = self.lib\n",
        "        nInput = self.nInput\n",
        "        ctx = self.ctx\n",
        "\n",
        "        def id_arr(prefix, num):\n",
        "            # Generate unique IDs for variables\n",
        "            return [f'{prefix}_{i}' for i in range(num)]\n",
        "\n",
        "        def make_loc_vars(prefix):\n",
        "            # Create location variables for inputs, program, and output\n",
        "            lInput = list(z3.Ints(id_arr(f'{prefix}_locInput', nInput), ctx))\n",
        "            lPR = [\n",
        "                (\n",
        "                    list(z3.Ints(id_arr(f'{prefix}_locParam_{i}', comp.arity), ctx)),\n",
        "                    z3.Int(f'{prefix}_locReturn_{i}', ctx)\n",
        "                ) for i, comp in enumerate(lib)\n",
        "            ]\n",
        "            lOutput = z3.Int(f'{prefix}_locOutput', ctx)\n",
        "            return lInput, lPR, lOutput\n",
        "\n",
        "        def make_value_vars(prefix):\n",
        "            # Create value variables for inputs, program, and output\n",
        "            vInput = list(z3.BitVecs(id_arr(f'{prefix}_valInput', nInput), 32, ctx))\n",
        "            vPR = [\n",
        "                (\n",
        "                    list(z3.BitVecs(id_arr(f'{prefix}_valParam_{i}', comp.arity), 32, ctx)),\n",
        "                    z3.BitVec(f'{prefix}_valReturn_{i}', 32, ctx)\n",
        "                ) for i, comp in enumerate(lib)\n",
        "            ]\n",
        "            vOutput = z3.BitVec(f'{prefix}_valOutput', 32, ctx)\n",
        "            return vInput, vPR, vOutput\n",
        "\n",
        "        # Create location and value variables\n",
        "        lInput, lPR, lOutput = make_loc_vars('cur')\n",
        "        cevInput, cevPR, cevOutput = make_value_vars('ctr')\n",
        "\n",
        "        # Create synthesizer solver and add constraints\n",
        "        synthesizer = z3.Solver(ctx=ctx)\n",
        "        synthesizer.set(timeout=timeout)\n",
        "        synthesizer.add(wfp_cons(lInput, lPR, lOutput))\n",
        "        if max_len is not None:\n",
        "            synthesizer.add(lOutput < (max_len + nInput))\n",
        "\n",
        "        # Create verifier solver and add constraints\n",
        "        verifier = z3.Solver(ctx=ctx)\n",
        "        verifier.set(timeout=timeout)\n",
        "        verifier.add(conn_cons(lInput, lPR, lOutput, cevInput, cevPR, cevOutput))\n",
        "        verifier.add(lib_cons(cevPR, lib))\n",
        "        verifier.add(z3.Not(self.spec(cevInput, cevOutput)))\n",
        "\n",
        "        # Iteratively refine the synthesis\n",
        "        # starting synthesis procedure\n",
        "        for iteration in range(max_iter):\n",
        "            print(f'> Running iteration {iteration} ...')\n",
        "\n",
        "            # Step 1. synthesize\n",
        "            check_result = synthesizer.check()\n",
        "            if check_result == z3.sat:\n",
        "                syn_model = synthesizer.model()\n",
        "                program = Program(nInput, syn_model, lPR, lOutput, lib)\n",
        "                # in this case, verifier should check the answer\n",
        "            elif check_result == z3.unsat:\n",
        "                # in this case this is impossible to find any program that\n",
        "                # satisfies the specification\n",
        "                return None\n",
        "            else:\n",
        "                return None\n",
        "\n",
        "            # Step 2. Verification\n",
        "\n",
        "            verifier.push()\n",
        "            for lv in lInput:\n",
        "                verifier.add(lv == syn_model.eval(lv, True))\n",
        "            for lParams, lRet in lPR:\n",
        "                for lParam in lParams:\n",
        "                    verifier.add(lParam == syn_model.eval(lParam, True))\n",
        "                verifier.add(lRet == syn_model.eval(lRet, True))\n",
        "            verifier.add(lOutput == syn_model.eval(lOutput, True))\n",
        "            for comp in lib:\n",
        "                for param in comp.parameters():\n",
        "                    verifier.add(param == syn_model.eval(param, True))\n",
        "\n",
        "            check_result = verifier.check()\n",
        "            if check_result == z3.unsat:\n",
        "                # there was no counter example and synthesis procedure terminates successfully.\n",
        "                return program\n",
        "            elif check_result == z3.sat:\n",
        "                # finded counter example feeded back to main synthesizer\n",
        "                ver_model = verifier.model()\n",
        "                cvInput, cvPR, cvOutput = make_value_vars(f'c{iteration}')\n",
        "                synthesizer.add(lib_cons(cvPR, lib))\n",
        "                synthesizer.add(conn_cons(lInput, lPR, lOutput, cvInput, cvPR, cvOutput))\n",
        "                synthesizer.add(self.spec(cvInput, cvOutput))\n",
        "                for cevI, cvI in zip(cevInput, cvInput):\n",
        "                    synthesizer.add(cvI == ver_model.eval(cevI, True))\n",
        "            else:\n",
        "                return None\n",
        "            verifier.pop()\n",
        "        return None\n",
        "\n",
        "    def synthesize_shortest(self):\n",
        "        # Find the shortest program that satisfies the specification\n",
        "        program = None\n",
        "        length = None\n",
        "        while True:\n",
        "            newprog = self.synthesize(max_len=length)\n",
        "            if newprog is None: break\n",
        "            program = newprog\n",
        "            length = program.sloc - 1\n",
        "            print(f'Current length = {program.sloc}')\n",
        "        return program\n"
      ],
      "metadata": {
        "colab": {
          "base_uri": "https://localhost:8080/"
        },
        "id": "g8-Dc3NbMINJ",
        "outputId": "73c9387b-4681-45e5-c980-4e09cf2d511a"
      },
      "execution_count": 10,
      "outputs": [
        {
          "output_type": "stream",
          "name": "stdout",
          "text": [
            "Overwriting synthesis.py\n"
          ]
        }
      ]
    },
    {
      "cell_type": "markdown",
      "source": [
        "----\n",
        "----"
      ],
      "metadata": {
        "id": "6evzXjk8yxZR"
      }
    },
    {
      "cell_type": "markdown",
      "source": [
        "##**How It All Works Together**\n",
        "\n",
        "**Define Components:** The components are defined in component.py and represent basic operations that can be used to build programs.\n",
        "\n",
        "**Construct Program Representation:**The Program class in program.py provides a way to represent and print the synthesized program.\n",
        "\n",
        "**Synthesize Programs:** The Synthesizer class in synthesis.py uses Z3 to search for a program composed of the defined components that meets the given specification. It constructs constraints, uses Z3 solvers to find solutions, and iteratively refines the search to find the shortest valid program.\n",
        "\n",
        "**Run Examples:** Specific example files (e.g., p1_example.py) define a specification, create a synthesizer, and print the synthesized program that meets the specification."
      ],
      "metadata": {
        "id": "hDgpU60ujfof"
      }
    },
    {
      "cell_type": "markdown",
      "source": [
        "----\n",
        "----"
      ],
      "metadata": {
        "id": "O1BKU08Lj72k"
      }
    },
    {
      "cell_type": "markdown",
      "source": [
        "## **Sample**\n",
        "\n",
        "The provided code in **sample.py** is testing the synthesis system for generating programs that meet specific constraints using the Z3 solver and a library of components.\n",
        "\n",
        "Code Explanation\n",
        "\n",
        "Imports and Setup:\n",
        "\n",
        "*   import synthesis: Imports the synthesis module containing the Synthesizer class.\n",
        "\n",
        "*   import z3: Imports the Z3 solver.\n",
        "\n",
        "Constraints:\n",
        "\n",
        "*   A list of constraints is defined, where each constraint is a tuple consisting of the arity (number of inputs) and a lambda function specifying the relationship between inputs and outputs.\n",
        "\n",
        "*   The constraints cover basic arithmetic operations (addition, subtraction), bitwise operations (AND, OR, NOT, XOR), and shifts.\n",
        "\n",
        "Testing Loop:\n",
        "\n",
        "*   For each constraint in the list, the synthesizer is instantiated with the given arity and constraint.\n",
        "\n",
        "*   The synthesizer attempts to generate the shortest program that satisfies the constraint using the synthesize_shortest method.\n",
        "\n",
        "*   The resulting program is printed if found."
      ],
      "metadata": {
        "id": "pyPEZcfzl5Gq"
      }
    },
    {
      "cell_type": "code",
      "source": [
        "# sample.py\n",
        "%%writefile sample.py\n",
        "import synthesis\n",
        "import z3\n",
        "\n",
        "# Test different constraints\n",
        "constraints = [\n",
        "    (2, lambda y, a, b: y == a + b),        # Simple addition\n",
        "    (2, lambda y, a, b: y == a - b),        # Simple subtraction\n",
        "    (2, lambda y, a, b: y == a & b),        # Bitwise AND\n",
        "    (2, lambda y, a, b: y == a | b),        # Bitwise OR\n",
        "    (1, lambda y, a: y == a + 1),           # Increment\n",
        "    (1, lambda y, a: y == a - 1),           # Decrement\n",
        "    (1, lambda y, a: y == ~a),              # Bitwise NOT\n",
        "    (1, lambda y, a: y == -a),              # Negation\n",
        "    (1, lambda y, a: y == a >> 31),         # Sign bit\n",
        "    (1, lambda y, a: y == -(a >> 31)),      # Negative sign bit\n",
        "]\n",
        "\n",
        "for i, (arity, constraint) in enumerate(constraints):\n",
        "    print(f'\\nTesting constraint #{i+1} ...')\n",
        "    synth = synthesis.Synthesizer(arity, constraint)\n",
        "    program = synth.synthesize_shortest()\n",
        "\n",
        "    if program:\n",
        "        print(program)\n",
        "    else:\n",
        "        print(\"No valid program found.\")\n"
      ],
      "metadata": {
        "colab": {
          "base_uri": "https://localhost:8080/"
        },
        "id": "iVc_Bgto-N7H",
        "outputId": "c6444944-c13f-43c1-d829-00fdfb72b80c"
      },
      "execution_count": 9,
      "outputs": [
        {
          "output_type": "stream",
          "name": "stdout",
          "text": [
            "Overwriting sample.py\n"
          ]
        }
      ]
    },
    {
      "cell_type": "code",
      "source": [
        "!python sample.py"
      ],
      "metadata": {
        "colab": {
          "base_uri": "https://localhost:8080/"
        },
        "id": "a4e0f0Yj-3Rc",
        "outputId": "8255b03b-d03c-4b5d-d377-606a692f4d74"
      },
      "execution_count": 10,
      "outputs": [
        {
          "output_type": "stream",
          "name": "stdout",
          "text": [
            "\n",
            "Testing constraint #1 ...\n",
            "> Running iteration 0 ...\n",
            "> Running iteration 1 ...\n",
            "> Running iteration 2 ...\n",
            "> Running iteration 3 ...\n",
            "> Running iteration 4 ...\n",
            "> Running iteration 5 ...\n",
            "Current length = 1\n",
            "> Running iteration 0 ...\n",
            "> Running iteration 1 ...\n",
            "def f(x0, x1):\n",
            "    v4 = x0 + x1\n",
            "    return v4\n",
            "\n",
            "Testing constraint #2 ...\n",
            "> Running iteration 0 ...\n",
            "> Running iteration 1 ...\n",
            "Current length = 4\n",
            "> Running iteration 0 ...\n",
            "> Running iteration 1 ...\n",
            "> Running iteration 2 ...\n",
            "> Running iteration 3 ...\n",
            "Current length = 3\n",
            "> Running iteration 0 ...\n",
            "> Running iteration 1 ...\n",
            "> Running iteration 2 ...\n",
            "Current length = 1\n",
            "> Running iteration 0 ...\n",
            "> Running iteration 1 ...\n",
            "def f(x0, x1):\n",
            "    v1 = x0 - x1\n",
            "    return v1\n",
            "\n",
            "Testing constraint #3 ...\n",
            "> Running iteration 0 ...\n",
            "> Running iteration 1 ...\n",
            "> Running iteration 2 ...\n",
            "> Running iteration 3 ...\n",
            "Current length = 1\n",
            "> Running iteration 0 ...\n",
            "> Running iteration 1 ...\n",
            "def f(x0, x1):\n",
            "    v0 = x0 & x1\n",
            "    return v0\n",
            "\n",
            "Testing constraint #4 ...\n",
            "> Running iteration 0 ...\n",
            "> Running iteration 1 ...\n",
            "> Running iteration 2 ...\n",
            "> Running iteration 3 ...\n",
            "Current length = 1\n",
            "> Running iteration 0 ...\n",
            "> Running iteration 1 ...\n",
            "> Running iteration 2 ...\n",
            "def f(x0, x1):\n",
            "    v3 = x0 | x1\n",
            "    return v3\n",
            "\n",
            "Testing constraint #5 ...\n",
            "> Running iteration 0 ...\n",
            "> Running iteration 1 ...\n",
            "> Running iteration 2 ...\n",
            "Current length = 1\n",
            "> Running iteration 0 ...\n",
            "> Running iteration 1 ...\n",
            "def f(x0):\n",
            "    v0 = x0 + 1\n",
            "    return v0\n",
            "\n",
            "Testing constraint #6 ...\n",
            "> Running iteration 0 ...\n",
            "> Running iteration 1 ...\n",
            "> Running iteration 2 ...\n",
            "Current length = 1\n",
            "> Running iteration 0 ...\n",
            "> Running iteration 1 ...\n",
            "def f(x0):\n",
            "    v5 = x0 - 1\n",
            "    return v5\n",
            "\n",
            "Testing constraint #7 ...\n",
            "> Running iteration 0 ...\n",
            "> Running iteration 1 ...\n",
            "> Running iteration 2 ...\n",
            "> Running iteration 3 ...\n",
            "Current length = 4\n",
            "> Running iteration 0 ...\n",
            "> Running iteration 1 ...\n",
            "> Running iteration 2 ...\n",
            "Current length = 2\n",
            "> Running iteration 0 ...\n",
            "> Running iteration 1 ...\n",
            "> Running iteration 2 ...\n",
            "Current length = 1\n",
            "> Running iteration 0 ...\n",
            "> Running iteration 1 ...\n",
            "def f(x0):\n",
            "    v0 = ~x0\n",
            "    return v0\n",
            "\n",
            "Testing constraint #8 ...\n",
            "> Running iteration 0 ...\n",
            "> Running iteration 1 ...\n",
            "> Running iteration 2 ...\n",
            "Current length = 6\n",
            "> Running iteration 0 ...\n",
            "> Running iteration 1 ...\n",
            "Current length = 4\n",
            "> Running iteration 0 ...\n",
            "> Running iteration 1 ...\n",
            "def f(x0):\n",
            "    v0 = x0 - 1\n",
            "    v1 = x0 ^ x0\n",
            "    v3 = v0 + 1\n",
            "    v4 = v1 - v3\n",
            "    return v4\n",
            "\n",
            "Testing constraint #9 ...\n",
            "> Running iteration 0 ...\n",
            "> Running iteration 1 ...\n",
            "> Running iteration 2 ...\n",
            "> Running iteration 3 ...\n",
            "Current length = 5\n",
            "> Running iteration 0 ...\n",
            "> Running iteration 1 ...\n",
            "Current length = 2\n",
            "> Running iteration 0 ...\n",
            "> Running iteration 1 ...\n",
            "Current length = 1\n",
            "> Running iteration 0 ...\n",
            "> Running iteration 1 ...\n",
            "def f(x0):\n",
            "    v0 = x0 >>> 31\n",
            "    return v0\n",
            "\n",
            "Testing constraint #10 ...\n",
            "> Running iteration 0 ...\n",
            "> Running iteration 1 ...\n",
            "> Running iteration 2 ...\n",
            "Current length = 3\n",
            "> Running iteration 0 ...\n",
            "> Running iteration 1 ...\n",
            "> Running iteration 2 ...\n",
            "Current length = 1\n",
            "> Running iteration 0 ...\n",
            "> Running iteration 1 ...\n",
            "def f(x0):\n",
            "    v1 = x0 >> 31\n",
            "    return v1\n"
          ]
        }
      ]
    },
    {
      "cell_type": "markdown",
      "source": [
        "## **Output Explanation**\n",
        "\n",
        "The output shows the synthesis process for each constraint, including the iterations and the final synthesized program. Below is a detailed explanation of the output for each constraint:\n",
        "\n",
        "**Constraint #1: Simple Addition (y == a + b):**\n",
        "\n",
        "def f(x0, x1):    \n",
        "    v4 = x0 + x1    \n",
        "    return v4\n",
        "\n",
        "The synthesizer generates a program that adds two inputs (x0 and x1) and returns the result.\n",
        "\n",
        "\n",
        "**Constraint #2: Simple Subtraction (y == a - b):**\n",
        "\n",
        "def f(x0, x1):   \n",
        "    v1 = x0 - x1   \n",
        "    return v1\n",
        "    \n",
        "The synthesizer generates a program that subtracts the second input (x1) from the first input (x0) and returns the result.\n",
        "\n",
        ",\n",
        "\n",
        ".\n",
        "\n",
        ".\n",
        "\n",
        ".\n"
      ],
      "metadata": {
        "id": "rjU5a_i0mbry"
      }
    },
    {
      "cell_type": "markdown",
      "source": [
        "---"
      ],
      "metadata": {
        "id": "AzK2nHJ__PGA"
      }
    },
    {
      "cell_type": "markdown",
      "source": [
        "##**Test**\n",
        "The code in **test.py** is designed to test a synthesis system that generates programs meeting specified constraints. The synthesis system uses the Z3 solver and a library of predefined components to automatically construct these programs.\n",
        "\n",
        "Code Explanation\n",
        "\n",
        "Imports and Setup:\n",
        "\n",
        "*   import time: To measure the time taken for each synthesis process.\n",
        "\n",
        "*   import inspect: Not used directly in this snippet but might be relevant for deeper introspection.\n",
        "\n",
        "*   import z3: To use the Z3 solver.\n",
        "\n",
        "*   from synthesis import Synthesizer: Import the Synthesizer class from the synthesis module.\n",
        "\n",
        "Test Cases:\n",
        "\n",
        "A list of constraints (test_cases) is defined, where each constraint is a tuple consisting of:\n",
        "\n",
        "*   arity: Number of inputs to the function.\n",
        "\n",
        "*   constraint: A lambda function specifying the relationship between the inputs and the output.\n",
        "\n",
        "The constraints include basic arithmetic operations (addition, subtraction), bitwise operations (AND, OR, NOT), and shifts.\n",
        "\n",
        "Testing Loop:\n",
        "\n",
        "*   For each constraint in the list, the code instantiates the Synthesizer class with the given arity and constraint.\n",
        "\n",
        "*   The synthesize_shortest method of the Synthesizer class is called to generate the shortest program that meets the constraint.\n",
        "\n",
        "*   The synthesized program is printed if found; otherwise, a message indicating failure is printed.\n",
        "\n",
        "Running the Tests:\n",
        "\n",
        "The !python test.py command at the end of the script runs the tests, and the results are displayed."
      ],
      "metadata": {
        "id": "0run0bd9qeUS"
      }
    },
    {
      "cell_type": "code",
      "source": [
        "# test.py\n",
        "%%writefile test.py\n",
        "import time\n",
        "import inspect\n",
        "import z3\n",
        "from synthesis import Synthesizer\n",
        "\n",
        "# List of test cases with various constraints\n",
        "test_cases = [\n",
        "    (2, lambda y, a, b: y == a + b),        # Simple addition\n",
        "    (2, lambda y, a, b: y == a - b),        # Simple subtraction\n",
        "    (2, lambda y, a, b: y == a & b),        # Bitwise AND\n",
        "    (2, lambda y, a, b: y == a | b),        # Bitwise OR\n",
        "    (1, lambda y, a: y == a + 1),           # Increment\n",
        "    (1, lambda y, a: y == a - 1),           # Decrement\n",
        "    (1, lambda y, a: y == ~a),              # Bitwise NOT\n",
        "    (1, lambda y, a: y == -a),              # Negation\n",
        "    (1, lambda y, a: y == a >> 31),         # Sign bit\n",
        "    (1, lambda y, a: y == -(a >> 31)),      # Negative sign bit\n",
        "]\n",
        "\n",
        "# Run each test case\n",
        "for i, (arity, constraint) in enumerate(test_cases):\n",
        "    print(f'\\nTesting constraint #{i+1} ...')\n",
        "    synth = Synthesizer(arity, constraint)\n",
        "\n",
        "    program = None\n",
        "    length = None\n",
        "    while True:\n",
        "        t0 = time.time()\n",
        "        newprog = synth.synthesize(max_len=length)\n",
        "        if newprog is None: break\n",
        "        program = newprog\n",
        "        length = program.sloc - 1\n",
        "        print(f'Current length = {program.sloc}')\n",
        "        print(program)\n",
        "        print('%.2f seconds used.' % (time.time() - t0))\n",
        "\n",
        "    if program:\n",
        "        print(f\"Test #{i+1} succeeded:\\n{program}\")\n",
        "    else:\n",
        "        print(f\"Test #{i+1} failed: No valid program found.\")\n"
      ],
      "metadata": {
        "colab": {
          "base_uri": "https://localhost:8080/"
        },
        "id": "UD3xf97i-_Lq",
        "outputId": "c54ddcb1-cb4c-4d19-fe54-26633b878f49"
      },
      "execution_count": 11,
      "outputs": [
        {
          "output_type": "stream",
          "name": "stdout",
          "text": [
            "Writing test.py\n"
          ]
        }
      ]
    },
    {
      "cell_type": "code",
      "source": [
        "!python test.py"
      ],
      "metadata": {
        "colab": {
          "base_uri": "https://localhost:8080/"
        },
        "id": "Ou6DlAD4_FEL",
        "outputId": "bff07957-9821-42a7-f030-761ec0e54948"
      },
      "execution_count": 12,
      "outputs": [
        {
          "output_type": "stream",
          "name": "stdout",
          "text": [
            "\n",
            "Testing constraint #1 ...\n",
            "> Running iteration 0 ...\n",
            "> Running iteration 1 ...\n",
            "> Running iteration 2 ...\n",
            "> Running iteration 3 ...\n",
            "> Running iteration 4 ...\n",
            "> Running iteration 5 ...\n",
            "Current length = 1\n",
            "def f(x0, x1):\n",
            "    v4 = x0 + x1\n",
            "    return v4\n",
            "10.46 seconds used.\n",
            "> Running iteration 0 ...\n",
            "> Running iteration 1 ...\n",
            "Test #1 succeeded:\n",
            "def f(x0, x1):\n",
            "    v4 = x0 + x1\n",
            "    return v4\n",
            "\n",
            "Testing constraint #2 ...\n",
            "> Running iteration 0 ...\n",
            "> Running iteration 1 ...\n",
            "Current length = 4\n",
            "def f(x0, x1):\n",
            "    v1 = x0 & x0\n",
            "    v2 = v1 - 1\n",
            "    v8 = v2 - x1\n",
            "    v9 = v8 + 1\n",
            "    return v9\n",
            "1.66 seconds used.\n",
            "> Running iteration 0 ...\n",
            "> Running iteration 1 ...\n",
            "> Running iteration 2 ...\n",
            "> Running iteration 3 ...\n",
            "Current length = 3\n",
            "def f(x0, x1):\n",
            "    v0 = x0 - x1\n",
            "    v1 = v0 - 1\n",
            "    v2 = v1 + 1\n",
            "    return v2\n",
            "8.44 seconds used.\n",
            "> Running iteration 0 ...\n",
            "> Running iteration 1 ...\n",
            "> Running iteration 2 ...\n",
            "Current length = 1\n",
            "def f(x0, x1):\n",
            "    v1 = x0 - x1\n",
            "    return v1\n",
            "0.74 seconds used.\n",
            "> Running iteration 0 ...\n",
            "> Running iteration 1 ...\n",
            "Test #2 succeeded:\n",
            "def f(x0, x1):\n",
            "    v1 = x0 - x1\n",
            "    return v1\n",
            "\n",
            "Testing constraint #3 ...\n",
            "> Running iteration 0 ...\n",
            "> Running iteration 1 ...\n",
            "> Running iteration 2 ...\n",
            "> Running iteration 3 ...\n",
            "Current length = 1\n",
            "def f(x0, x1):\n",
            "    v0 = x0 & x1\n",
            "    return v0\n",
            "5.22 seconds used.\n",
            "> Running iteration 0 ...\n",
            "> Running iteration 1 ...\n",
            "Test #3 succeeded:\n",
            "def f(x0, x1):\n",
            "    v0 = x0 & x1\n",
            "    return v0\n",
            "\n",
            "Testing constraint #4 ...\n",
            "> Running iteration 0 ...\n",
            "> Running iteration 1 ...\n",
            "> Running iteration 2 ...\n",
            "> Running iteration 3 ...\n",
            "Current length = 1\n",
            "def f(x0, x1):\n",
            "    v3 = x0 | x1\n",
            "    return v3\n",
            "2.23 seconds used.\n",
            "> Running iteration 0 ...\n",
            "> Running iteration 1 ...\n",
            "> Running iteration 2 ...\n",
            "Test #4 succeeded:\n",
            "def f(x0, x1):\n",
            "    v3 = x0 | x1\n",
            "    return v3\n",
            "\n",
            "Testing constraint #5 ...\n",
            "> Running iteration 0 ...\n",
            "> Running iteration 1 ...\n",
            "> Running iteration 2 ...\n",
            "Current length = 1\n",
            "def f(x0):\n",
            "    v0 = x0 + 1\n",
            "    return v0\n",
            "2.76 seconds used.\n",
            "> Running iteration 0 ...\n",
            "> Running iteration 1 ...\n",
            "Test #5 succeeded:\n",
            "def f(x0):\n",
            "    v0 = x0 + 1\n",
            "    return v0\n",
            "\n",
            "Testing constraint #6 ...\n",
            "> Running iteration 0 ...\n",
            "> Running iteration 1 ...\n",
            "> Running iteration 2 ...\n",
            "Current length = 1\n",
            "def f(x0):\n",
            "    v5 = x0 - 1\n",
            "    return v5\n",
            "2.32 seconds used.\n",
            "> Running iteration 0 ...\n",
            "> Running iteration 1 ...\n",
            "Test #6 succeeded:\n",
            "def f(x0):\n",
            "    v5 = x0 - 1\n",
            "    return v5\n",
            "\n",
            "Testing constraint #7 ...\n",
            "> Running iteration 0 ...\n",
            "> Running iteration 1 ...\n",
            "> Running iteration 2 ...\n",
            "> Running iteration 3 ...\n",
            "Current length = 4\n",
            "def f(x0):\n",
            "    v0 = x0 >> 31\n",
            "    v1 = v0 ^ v0\n",
            "    v3 = ~x0\n",
            "    v10 = v3 | v1\n",
            "    return v10\n",
            "1.02 seconds used.\n",
            "> Running iteration 0 ...\n",
            "> Running iteration 1 ...\n",
            "> Running iteration 2 ...\n",
            "Current length = 2\n",
            "def f(x0):\n",
            "    v0 = -((unsigned)x0 <= (unsigned)x0)\n",
            "    v2 = x0 ^ v0\n",
            "    return v2\n",
            "2.43 seconds used.\n",
            "> Running iteration 0 ...\n",
            "> Running iteration 1 ...\n",
            "> Running iteration 2 ...\n",
            "Current length = 1\n",
            "def f(x0):\n",
            "    v0 = ~x0\n",
            "    return v0\n",
            "2.58 seconds used.\n",
            "> Running iteration 0 ...\n",
            "> Running iteration 1 ...\n",
            "Test #7 succeeded:\n",
            "def f(x0):\n",
            "    v0 = ~x0\n",
            "    return v0\n",
            "\n",
            "Testing constraint #8 ...\n",
            "> Running iteration 0 ...\n",
            "> Running iteration 1 ...\n",
            "> Running iteration 2 ...\n",
            "Current length = 6\n",
            "def f(x0):\n",
            "    v0 = x0 & x0\n",
            "    v1 = v0 | v0\n",
            "    v2 = x0 ^ v1\n",
            "    v4 = v2 + 1\n",
            "    v6 = v4 >> 31\n",
            "    v7 = v6 - x0\n",
            "    return v7\n",
            "1.57 seconds used.\n",
            "> Running iteration 0 ...\n",
            "> Running iteration 1 ...\n",
            "Current length = 4\n",
            "def f(x0):\n",
            "    v0 = x0 - 1\n",
            "    v1 = x0 ^ x0\n",
            "    v3 = v0 + 1\n",
            "    v4 = v1 - v3\n",
            "    return v4\n",
            "1.04 seconds used.\n",
            "> Running iteration 0 ...\n",
            "> Running iteration 1 ...\n",
            "Test #8 succeeded:\n",
            "def f(x0):\n",
            "    v0 = x0 - 1\n",
            "    v1 = x0 ^ x0\n",
            "    v3 = v0 + 1\n",
            "    v4 = v1 - v3\n",
            "    return v4\n",
            "\n",
            "Testing constraint #9 ...\n",
            "> Running iteration 0 ...\n",
            "> Running iteration 1 ...\n",
            "> Running iteration 2 ...\n",
            "> Running iteration 3 ...\n",
            "Current length = 5\n",
            "def f(x0):\n",
            "    v0 = x0 >>> 31\n",
            "    v1 = -((unsigned)v0 <= (unsigned)x0)\n",
            "    v2 = v1 ^ v0\n",
            "    v3 = v2 & v1\n",
            "    v8 = ~v3\n",
            "    return v8\n",
            "2.21 seconds used.\n",
            "> Running iteration 0 ...\n",
            "> Running iteration 1 ...\n",
            "Current length = 2\n",
            "def f(x0):\n",
            "    v1 = x0 >>> 31\n",
            "    v3 = v1 & v1\n",
            "    return v3\n",
            "0.76 seconds used.\n",
            "> Running iteration 0 ...\n",
            "> Running iteration 1 ...\n",
            "Current length = 1\n",
            "def f(x0):\n",
            "    v0 = x0 >>> 31\n",
            "    return v0\n",
            "0.83 seconds used.\n",
            "> Running iteration 0 ...\n",
            "> Running iteration 1 ...\n",
            "Test #9 succeeded:\n",
            "def f(x0):\n",
            "    v0 = x0 >>> 31\n",
            "    return v0\n",
            "\n",
            "Testing constraint #10 ...\n",
            "> Running iteration 0 ...\n",
            "> Running iteration 1 ...\n",
            "> Running iteration 2 ...\n",
            "Current length = 3\n",
            "def f(x0):\n",
            "    v0 = x0 ^ x0\n",
            "    v1 = x0 >>> 31\n",
            "    v3 = v0 - v1\n",
            "    return v3\n",
            "1.01 seconds used.\n",
            "> Running iteration 0 ...\n",
            "> Running iteration 1 ...\n",
            "> Running iteration 2 ...\n",
            "Current length = 1\n",
            "def f(x0):\n",
            "    v1 = x0 >> 31\n",
            "    return v1\n",
            "2.11 seconds used.\n",
            "> Running iteration 0 ...\n",
            "> Running iteration 1 ...\n",
            "Test #10 succeeded:\n",
            "def f(x0):\n",
            "    v1 = x0 >> 31\n",
            "    return v1\n"
          ]
        }
      ]
    },
    {
      "cell_type": "markdown",
      "source": [
        "The output is similar to \"sample.py\", with the difference that the time used is included."
      ],
      "metadata": {
        "id": "m2-NtsWkrAXF"
      }
    },
    {
      "cell_type": "markdown",
      "source": [
        "---"
      ],
      "metadata": {
        "id": "CXkUZ56m-zGW"
      }
    },
    {
      "cell_type": "markdown",
      "source": [
        "---"
      ],
      "metadata": {
        "id": "gwngisgQ_RAl"
      }
    },
    {
      "cell_type": "markdown",
      "source": [
        "In the following, we will implement some of the examples mentioned in the article 'Synthesis of Loop-free Programs' and related to the book 'Hacker's Delight'."
      ],
      "metadata": {
        "id": "daSUVuJcrWgg"
      }
    },
    {
      "cell_type": "markdown",
      "source": [
        "##**P1**"
      ],
      "metadata": {
        "id": "HCOELBFCu49Y"
      }
    },
    {
      "cell_type": "markdown",
      "source": [
        "**P1(x) :** Turn-off rightmost 1 bit. This is the running example in the paper.   \n",
        "1 o1:=bvsub (x,1)   \n",
        "2 res:=bvand (x,o1)"
      ],
      "metadata": {
        "id": "dzyXSSI0snnh"
      }
    },
    {
      "cell_type": "code",
      "source": [
        "# p1_example.py\n",
        "%%writefile p1_example.py\n",
        "import synthesis\n",
        "import z3\n",
        "\n",
        "# Define the specification for P1\n",
        "specification = lambda y, x: y == x & (x - 1)\n",
        "\n",
        "# Create the synthesizer with 1 input\n",
        "synth = synthesis.Synthesizer(1, specification)\n",
        "\n",
        "# Synthesize the shortest program that matches the specification\n",
        "program = synth.synthesize_shortest()\n",
        "\n",
        "# Print the synthesized program\n",
        "if program:\n",
        "    print(program)\n",
        "else:\n",
        "    print(\"No valid program found.\")\n"
      ],
      "metadata": {
        "colab": {
          "base_uri": "https://localhost:8080/"
        },
        "id": "xjrmq1yxh_Ri",
        "outputId": "49b10c06-b8cc-4376-9a34-5ff36bd2727b"
      },
      "execution_count": 15,
      "outputs": [
        {
          "output_type": "stream",
          "name": "stdout",
          "text": [
            "Writing p1_example.py\n"
          ]
        }
      ]
    },
    {
      "cell_type": "code",
      "source": [
        "!python p1_example.py"
      ],
      "metadata": {
        "colab": {
          "base_uri": "https://localhost:8080/"
        },
        "id": "bzodBsqr9X9m",
        "outputId": "12b4d9f9-570f-4450-c65b-eddf3931738a"
      },
      "execution_count": 16,
      "outputs": [
        {
          "output_type": "stream",
          "name": "stdout",
          "text": [
            "> Running iteration 0 ...\n",
            "> Running iteration 1 ...\n",
            "> Running iteration 2 ...\n",
            "> Running iteration 3 ...\n",
            "Current length = 2\n",
            "> Running iteration 0 ...\n",
            "> Running iteration 1 ...\n",
            "def f(x0):\n",
            "    v0 = x0 - 1\n",
            "    v2 = v0 & x0\n",
            "    return v2\n"
          ]
        }
      ]
    },
    {
      "cell_type": "code",
      "source": [
        "# test.py\n",
        "%%writefile test.py\n",
        "import time\n",
        "import inspect\n",
        "import z3\n",
        "from synthesis import Synthesizer\n",
        "\n",
        "# List of test cases with various constraints, including P1 example\n",
        "test_cases = [\n",
        "    (1, lambda y, x: y == x & (x - 1)),  # P1: Turn off rightmost 1 bit\n",
        "]\n",
        "\n",
        "# Run each test case\n",
        "for i, (arity, constraint) in enumerate(test_cases):\n",
        "    print(f'\\nTesting constraint #{i+1} ...')\n",
        "    synth = Synthesizer(arity, constraint)\n",
        "\n",
        "    program = None\n",
        "    length = None\n",
        "    while True:\n",
        "        t0 = time.time()\n",
        "        newprog = synth.synthesize(max_len=length)\n",
        "        if newprog is None: break\n",
        "        program = newprog\n",
        "        length = program.sloc - 1\n",
        "        print(f'Current length = {program.sloc}')\n",
        "        print(program)\n",
        "        print('%.2f seconds used.' % (time.time() - t0))\n",
        "\n",
        "    if program:\n",
        "        print(f\"Test #{i+1} succeeded:\\n{program}\")\n",
        "    else:\n",
        "        print(f\"Test #{i+1} failed: No valid program found.\")\n"
      ],
      "metadata": {
        "colab": {
          "base_uri": "https://localhost:8080/"
        },
        "id": "f360lLZ0fwfk",
        "outputId": "30f4ab1f-62b2-41a4-d35b-d05006fdd526"
      },
      "execution_count": 18,
      "outputs": [
        {
          "output_type": "stream",
          "name": "stdout",
          "text": [
            "Overwriting test.py\n"
          ]
        }
      ]
    },
    {
      "cell_type": "code",
      "source": [
        "!python test.py"
      ],
      "metadata": {
        "colab": {
          "base_uri": "https://localhost:8080/"
        },
        "id": "et5otHEAlb7S",
        "outputId": "b641aef0-138d-4b53-8a02-411a0faf0b68"
      },
      "execution_count": 19,
      "outputs": [
        {
          "output_type": "stream",
          "name": "stdout",
          "text": [
            "\n",
            "Testing constraint #1 ...\n",
            "> Running iteration 0 ...\n",
            "> Running iteration 1 ...\n",
            "> Running iteration 2 ...\n",
            "> Running iteration 3 ...\n",
            "Current length = 2\n",
            "def f(x0):\n",
            "    v0 = x0 - 1\n",
            "    v2 = v0 & x0\n",
            "    return v2\n",
            "11.96 seconds used.\n",
            "> Running iteration 0 ...\n",
            "> Running iteration 1 ...\n",
            "Test #1 succeeded:\n",
            "def f(x0):\n",
            "    v0 = x0 - 1\n",
            "    v2 = v0 & x0\n",
            "    return v2\n"
          ]
        }
      ]
    },
    {
      "cell_type": "markdown",
      "source": [
        "---"
      ],
      "metadata": {
        "id": "0nNY9tD6x2gm"
      }
    },
    {
      "cell_type": "markdown",
      "source": [
        "----"
      ],
      "metadata": {
        "id": "K8mMUgi7xiy3"
      }
    },
    {
      "cell_type": "markdown",
      "source": [
        "##**P2**"
      ],
      "metadata": {
        "id": "zNRNaY1ou1he"
      }
    },
    {
      "cell_type": "markdown",
      "source": [
        "**P2(x) :** Test whether an unsigned integer is of the form 2^n-1   \n",
        "1 o1:=bvadd (x,1)   \n",
        "2 res:=bvand (x,o1)"
      ],
      "metadata": {
        "id": "7U1fHTiZs3nY"
      }
    },
    {
      "cell_type": "code",
      "source": [
        "# p2_example.py\n",
        "%%writefile p2_example.py\n",
        "import synthesis\n",
        "import z3\n",
        "\n",
        "# Define the specification for P2\n",
        "specification = lambda y, x: y == (x + 1) & x\n",
        "\n",
        "# Create the synthesizer with 1 input\n",
        "synth = synthesis.Synthesizer(1, specification)\n",
        "\n",
        "# Synthesize the shortest program that matches the specification\n",
        "program = synth.synthesize_shortest()\n",
        "\n",
        "# Print the synthesized program\n",
        "if program:\n",
        "    print(program)\n",
        "else:\n",
        "    print(\"No valid program found.\")\n"
      ],
      "metadata": {
        "colab": {
          "base_uri": "https://localhost:8080/"
        },
        "id": "w1IoGg97x5jE",
        "outputId": "da91a50c-54d6-4f9c-f2de-a3e51862e4b4"
      },
      "execution_count": 11,
      "outputs": [
        {
          "output_type": "stream",
          "name": "stdout",
          "text": [
            "Overwriting p2_example.py\n"
          ]
        }
      ]
    },
    {
      "cell_type": "code",
      "source": [
        "# Run the test\n",
        "!python p2_example.py"
      ],
      "metadata": {
        "colab": {
          "base_uri": "https://localhost:8080/"
        },
        "id": "8w9PO1I79h7M",
        "outputId": "885c0780-3307-4bd9-9a4f-47e94f31cd62"
      },
      "execution_count": 12,
      "outputs": [
        {
          "output_type": "stream",
          "name": "stdout",
          "text": [
            "> Running iteration 0 ...\n",
            "> Running iteration 1 ...\n",
            "> Running iteration 2 ...\n",
            "Current length = 3\n",
            "> Running iteration 0 ...\n",
            "> Running iteration 1 ...\n",
            "> Running iteration 2 ...\n",
            "Current length = 2\n",
            "> Running iteration 0 ...\n",
            "> Running iteration 1 ...\n",
            "> Running iteration 2 ...\n",
            "def f(x0):\n",
            "    v0 = x0 + 1\n",
            "    v1 = x0 & v0\n",
            "    return v1\n"
          ]
        }
      ]
    },
    {
      "cell_type": "code",
      "source": [
        "# test.py\n",
        "%%writefile test.py\n",
        "import time\n",
        "import inspect\n",
        "import z3\n",
        "from synthesis import Synthesizer\n",
        "\n",
        "# List of test cases with various constraints, including P1 to P9 examples\n",
        "test_cases = [\n",
        "    (1, lambda y, x: y == (x + 1) & x),    # P2: Increment and AND\n",
        "]\n",
        "\n",
        "# Run each test case\n",
        "for i, (arity, constraint) in enumerate(test_cases):\n",
        "    print(f'\\nTesting constraint #{i+1} ...')\n",
        "    synth = Synthesizer(arity, constraint)\n",
        "\n",
        "    program = None\n",
        "    length = None\n",
        "    while True:\n",
        "        t0 = time.time()\n",
        "        newprog = synth.synthesize(max_len=length)\n",
        "        if newprog is None: break\n",
        "        program = newprog\n",
        "        length = program.sloc - 1\n",
        "        print(f'Current length = {program.sloc}')\n",
        "        print(program)\n",
        "        print('%.2f seconds used.' % (time.time() - t0))\n",
        "\n",
        "    if program:\n",
        "        print(f\"Test #{i+1} succeeded:\\n{program}\")\n",
        "    else:\n",
        "        print(f\"Test #{i+1} failed: No valid program found.\")"
      ],
      "metadata": {
        "colab": {
          "base_uri": "https://localhost:8080/"
        },
        "id": "QZ-PNgEhoGfw",
        "outputId": "80a55814-0ab8-43e3-f084-a17d4a3576f6"
      },
      "execution_count": 13,
      "outputs": [
        {
          "output_type": "stream",
          "name": "stdout",
          "text": [
            "Writing test.py\n"
          ]
        }
      ]
    },
    {
      "cell_type": "code",
      "source": [
        "# Run the test\n",
        "!python test.py"
      ],
      "metadata": {
        "colab": {
          "base_uri": "https://localhost:8080/"
        },
        "id": "UrUaQgh2oNUd",
        "outputId": "2f3a96b0-1bb6-43da-84f5-9a28071d5946"
      },
      "execution_count": 14,
      "outputs": [
        {
          "output_type": "stream",
          "name": "stdout",
          "text": [
            "\n",
            "Testing constraint #1 ...\n",
            "> Running iteration 0 ...\n",
            "> Running iteration 1 ...\n",
            "> Running iteration 2 ...\n",
            "Current length = 3\n",
            "def f(x0):\n",
            "    v0 = x0 | x0\n",
            "    v5 = x0 + 1\n",
            "    v9 = v5 & v0\n",
            "    return v9\n",
            "4.54 seconds used.\n",
            "> Running iteration 0 ...\n",
            "> Running iteration 1 ...\n",
            "> Running iteration 2 ...\n",
            "Current length = 2\n",
            "def f(x0):\n",
            "    v0 = x0 + 1\n",
            "    v1 = x0 & v0\n",
            "    return v1\n",
            "3.51 seconds used.\n",
            "> Running iteration 0 ...\n",
            "> Running iteration 1 ...\n",
            "> Running iteration 2 ...\n",
            "Test #1 succeeded:\n",
            "def f(x0):\n",
            "    v0 = x0 + 1\n",
            "    v1 = x0 & v0\n",
            "    return v1\n"
          ]
        }
      ]
    },
    {
      "cell_type": "markdown",
      "source": [
        "---"
      ],
      "metadata": {
        "id": "VExgx70wx6Gg"
      }
    },
    {
      "cell_type": "markdown",
      "source": [
        "----"
      ],
      "metadata": {
        "id": "eqvFHbHqxgM7"
      }
    },
    {
      "cell_type": "markdown",
      "source": [
        "##**P3**"
      ],
      "metadata": {
        "id": "HbobvFMfuy2W"
      }
    },
    {
      "cell_type": "markdown",
      "source": [
        "**P3(x) :** Isolate the rightmost 1-bit   \n",
        "1 o1:=bvneg (x)   \n",
        "2 res:=bvand (x,o1)"
      ],
      "metadata": {
        "id": "Bmv1gLXCtUoW"
      }
    },
    {
      "cell_type": "code",
      "source": [
        "# p3_example.py\n",
        "%%writefile p3_example.py\n",
        "import synthesis\n",
        "import z3\n",
        "\n",
        "# Define the specification for P3\n",
        "specification = lambda y, x: y == x & -x\n",
        "\n",
        "# Create the synthesizer with 1 input\n",
        "synth = synthesis.Synthesizer(1, specification)\n",
        "\n",
        "# Synthesize the shortest program that matches the specification\n",
        "program = synth.synthesize_shortest()\n",
        "\n",
        "# Print the synthesized program\n",
        "if program:\n",
        "    print(program)\n",
        "else:\n",
        "    print(\"No valid program found.\")\n"
      ],
      "metadata": {
        "colab": {
          "base_uri": "https://localhost:8080/"
        },
        "id": "Iv2mB67EyG7x",
        "outputId": "8ba16386-762c-4dd5-ec1a-95b0ab0c07f6"
      },
      "execution_count": 21,
      "outputs": [
        {
          "output_type": "stream",
          "name": "stdout",
          "text": [
            "Writing p3_example.py\n"
          ]
        }
      ]
    },
    {
      "cell_type": "code",
      "source": [
        "!python p3_example.py"
      ],
      "metadata": {
        "colab": {
          "base_uri": "https://localhost:8080/"
        },
        "id": "xqZ9dVXh9jRj",
        "outputId": "5c095dd5-db8a-4de1-cce2-40c1c8e9ba83"
      },
      "execution_count": 22,
      "outputs": [
        {
          "output_type": "stream",
          "name": "stdout",
          "text": [
            "> Running iteration 0 ...\n",
            "> Running iteration 1 ...\n",
            "Current length = 5\n",
            "> Running iteration 0 ...\n",
            "> Running iteration 1 ...\n",
            "Current length = 4\n",
            "> Running iteration 0 ...\n",
            "> Running iteration 1 ...\n",
            "Current length = 3\n",
            "> Running iteration 0 ...\n",
            "> Running iteration 1 ...\n",
            "def f(x0):\n",
            "    v0 = x0 - 1\n",
            "    v1 = x0 ^ v0\n",
            "    v2 = x0 & v1\n",
            "    return v2\n"
          ]
        }
      ]
    },
    {
      "cell_type": "code",
      "source": [
        "# test.py\n",
        "%%writefile test.py\n",
        "import time\n",
        "import inspect\n",
        "import z3\n",
        "from synthesis import Synthesizer\n",
        "\n",
        "# List of test cases with various constraints, including P1 to P9 examples\n",
        "test_cases = [\n",
        "    (1, lambda y, x: y == x & -x),         # P3: x AND -x\n",
        "]\n",
        "\n",
        "# Run each test case\n",
        "for i, (arity, constraint) in enumerate(test_cases):\n",
        "    print(f'\\nTesting constraint #{i+1} ...')\n",
        "    synth = Synthesizer(arity, constraint)\n",
        "\n",
        "    program = None\n",
        "    length = None\n",
        "    while True:\n",
        "        t0 = time.time()\n",
        "        newprog = synth.synthesize(max_len=length)\n",
        "        if newprog is None: break\n",
        "        program = newprog\n",
        "        length = program.sloc - 1\n",
        "        print(f'Current length = {program.sloc}')\n",
        "        print(program)\n",
        "        print('%.2f seconds used.' % (time.time() - t0))\n",
        "\n",
        "    if program:\n",
        "        print(f\"Test #{i+1} succeeded:\\n{program}\")\n",
        "    else:\n",
        "        print(f\"Test #{i+1} failed: No valid program found.\")"
      ],
      "metadata": {
        "colab": {
          "base_uri": "https://localhost:8080/"
        },
        "id": "k3P6C4SGoWdA",
        "outputId": "5eee9912-8d42-4dcd-cc05-65c38697c492"
      },
      "execution_count": 23,
      "outputs": [
        {
          "output_type": "stream",
          "name": "stdout",
          "text": [
            "Overwriting test.py\n"
          ]
        }
      ]
    },
    {
      "cell_type": "code",
      "source": [
        "# Run the test\n",
        "!python test.py"
      ],
      "metadata": {
        "colab": {
          "base_uri": "https://localhost:8080/"
        },
        "id": "FQ2WcpfJoR5E",
        "outputId": "6acc935c-5828-4756-d675-c56daa91393f"
      },
      "execution_count": 24,
      "outputs": [
        {
          "output_type": "stream",
          "name": "stdout",
          "text": [
            "\n",
            "Testing constraint #1 ...\n",
            "> Running iteration 0 ...\n",
            "> Running iteration 1 ...\n",
            "Current length = 5\n",
            "def f(x0):\n",
            "    v0 = ~x0\n",
            "    v1 = -((unsigned)v0 <= (unsigned)v0)\n",
            "    v2 = v1 + x0\n",
            "    v4 = v2 ^ v1\n",
            "    v5 = v4 & x0\n",
            "    return v5\n",
            "2.80 seconds used.\n",
            "> Running iteration 0 ...\n",
            "> Running iteration 1 ...\n",
            "Current length = 4\n",
            "def f(x0):\n",
            "    v0 = x0 | x0\n",
            "    v1 = v0 - 1\n",
            "    v2 = v1 & v0\n",
            "    v3 = x0 - v2\n",
            "    return v3\n",
            "4.33 seconds used.\n",
            "> Running iteration 0 ...\n",
            "> Running iteration 1 ...\n",
            "Current length = 3\n",
            "def f(x0):\n",
            "    v0 = x0 - 1\n",
            "    v1 = x0 ^ v0\n",
            "    v2 = x0 & v1\n",
            "    return v2\n",
            "4.49 seconds used.\n",
            "> Running iteration 0 ...\n",
            "> Running iteration 1 ...\n",
            "Test #1 succeeded:\n",
            "def f(x0):\n",
            "    v0 = x0 - 1\n",
            "    v1 = x0 ^ v0\n",
            "    v2 = x0 & v1\n",
            "    return v2\n"
          ]
        }
      ]
    },
    {
      "cell_type": "markdown",
      "source": [
        "---"
      ],
      "metadata": {
        "id": "vClNr1kiyHeD"
      }
    },
    {
      "cell_type": "markdown",
      "source": [
        "----"
      ],
      "metadata": {
        "id": "vZ5A8ad9xdfW"
      }
    },
    {
      "cell_type": "markdown",
      "source": [
        "##**P4**"
      ],
      "metadata": {
        "id": "kHayKq6muwN0"
      }
    },
    {
      "cell_type": "markdown",
      "source": [
        "**P4(x) :** Form a mask that identifies the rightmost 1 bit and trailing 0s   \n",
        "1 o1:=bvsub (x,1)   \n",
        "2 res:=bvxor (x,o1)"
      ],
      "metadata": {
        "id": "o8MM2Ph6tcZ8"
      }
    },
    {
      "cell_type": "code",
      "source": [
        "# p4_example.py\n",
        "%%writefile p4_example.py\n",
        "import synthesis\n",
        "import z3\n",
        "\n",
        "# Define the specification for P4\n",
        "specification = lambda y, x: y == x ^ (x - 1)\n",
        "\n",
        "# Create the synthesizer with 1 input\n",
        "synth = synthesis.Synthesizer(1, specification)\n",
        "\n",
        "# Synthesize the shortest program that matches the specification\n",
        "program = synth.synthesize_shortest()\n",
        "\n",
        "# Print the synthesized program\n",
        "if program:\n",
        "    print(program)\n",
        "else:\n",
        "    print(\"No valid program found.\")\n"
      ],
      "metadata": {
        "colab": {
          "base_uri": "https://localhost:8080/"
        },
        "id": "2mN-KasWyPjb",
        "outputId": "378a0147-fcec-4b7d-ff98-4ee9b2e9ac48"
      },
      "execution_count": 25,
      "outputs": [
        {
          "output_type": "stream",
          "name": "stdout",
          "text": [
            "Writing p4_example.py\n"
          ]
        }
      ]
    },
    {
      "cell_type": "code",
      "source": [
        "!python p4_example.py"
      ],
      "metadata": {
        "colab": {
          "base_uri": "https://localhost:8080/"
        },
        "id": "IdJAfVCr9lOg",
        "outputId": "995db45d-1ec4-4cb2-fde4-7ddb98fe8fb9"
      },
      "execution_count": 26,
      "outputs": [
        {
          "output_type": "stream",
          "name": "stdout",
          "text": [
            "> Running iteration 0 ...\n",
            "> Running iteration 1 ...\n",
            "> Running iteration 2 ...\n",
            "> Running iteration 3 ...\n",
            "Current length = 2\n",
            "> Running iteration 0 ...\n",
            "> Running iteration 1 ...\n",
            "> Running iteration 2 ...\n",
            "def f(x0):\n",
            "    v2 = x0 - 1\n",
            "    v3 = v2 ^ x0\n",
            "    return v3\n"
          ]
        }
      ]
    },
    {
      "cell_type": "code",
      "source": [
        "# test.py\n",
        "%%writefile test.py\n",
        "import time\n",
        "import inspect\n",
        "import z3\n",
        "from synthesis import Synthesizer\n",
        "\n",
        "# List of test cases with various constraints, including P1 to P9 examples\n",
        "test_cases = [\n",
        "    (1, lambda y, x: y == x ^ (x - 1)),    # P4: x XOR (x - 1)\n",
        "]\n",
        "\n",
        "# Run each test case\n",
        "for i, (arity, constraint) in enumerate(test_cases):\n",
        "    print(f'\\nTesting constraint #{i+1} ...')\n",
        "    synth = Synthesizer(arity, constraint)\n",
        "\n",
        "    program = None\n",
        "    length = None\n",
        "    while True:\n",
        "        t0 = time.time()\n",
        "        newprog = synth.synthesize(max_len=length)\n",
        "        if newprog is None: break\n",
        "        program = newprog\n",
        "        length = program.sloc - 1\n",
        "        print(f'Current length = {program.sloc}')\n",
        "        print(program)\n",
        "        print('%.2f seconds used.' % (time.time() - t0))\n",
        "\n",
        "    if program:\n",
        "        print(f\"Test #{i+1} succeeded:\\n{program}\")\n",
        "    else:\n",
        "        print(f\"Test #{i+1} failed: No valid program found.\")"
      ],
      "metadata": {
        "colab": {
          "base_uri": "https://localhost:8080/"
        },
        "id": "h11ZFq9Poogx",
        "outputId": "d28932b5-99b3-40a4-856c-995aaa930e84"
      },
      "execution_count": 27,
      "outputs": [
        {
          "output_type": "stream",
          "name": "stdout",
          "text": [
            "Overwriting test.py\n"
          ]
        }
      ]
    },
    {
      "cell_type": "code",
      "source": [
        "# Run the test\n",
        "!python test.py"
      ],
      "metadata": {
        "colab": {
          "base_uri": "https://localhost:8080/"
        },
        "id": "rpzfV-1ap4yK",
        "outputId": "a1d1c9cf-45fc-48dd-c7aa-0a69f9ccc303"
      },
      "execution_count": 28,
      "outputs": [
        {
          "output_type": "stream",
          "name": "stdout",
          "text": [
            "\n",
            "Testing constraint #1 ...\n",
            "> Running iteration 0 ...\n",
            "> Running iteration 1 ...\n",
            "> Running iteration 2 ...\n",
            "> Running iteration 3 ...\n",
            "Current length = 2\n",
            "def f(x0):\n",
            "    v2 = x0 - 1\n",
            "    v3 = v2 ^ x0\n",
            "    return v3\n",
            "6.27 seconds used.\n",
            "> Running iteration 0 ...\n",
            "> Running iteration 1 ...\n",
            "> Running iteration 2 ...\n",
            "Test #1 succeeded:\n",
            "def f(x0):\n",
            "    v2 = x0 - 1\n",
            "    v3 = v2 ^ x0\n",
            "    return v3\n"
          ]
        }
      ]
    },
    {
      "cell_type": "markdown",
      "source": [
        "---"
      ],
      "metadata": {
        "id": "Y-bFQrt2yc2z"
      }
    },
    {
      "cell_type": "markdown",
      "source": [
        "----"
      ],
      "metadata": {
        "id": "C7m7BEzY1JK7"
      }
    },
    {
      "cell_type": "markdown",
      "source": [
        "##**P5**"
      ],
      "metadata": {
        "id": "TDWmHMJnutoV"
      }
    },
    {
      "cell_type": "markdown",
      "source": [
        "**P5(x) :** Right propagate rightmost 1-bit   \n",
        "1 o1:=bvsub (x,1)   \n",
        "2 res:=bvor (x,o1)"
      ],
      "metadata": {
        "id": "mWIARVsDtlLE"
      }
    },
    {
      "cell_type": "code",
      "source": [
        "# p5_example.py\n",
        "%%writefile p5_example.py\n",
        "import synthesis\n",
        "import z3\n",
        "\n",
        "# Define the specification for P5\n",
        "specification = lambda y, x: y == (x - 1) | x\n",
        "\n",
        "# Create the synthesizer with 1 input\n",
        "synth = synthesis.Synthesizer(1, specification)\n",
        "\n",
        "# Synthesize the shortest program that matches the specification\n",
        "program = synth.synthesize_shortest()\n",
        "\n",
        "# Print the synthesized program\n",
        "if program:\n",
        "    print(program)\n",
        "else:\n",
        "    print(\"No valid program found.\")\n"
      ],
      "metadata": {
        "colab": {
          "base_uri": "https://localhost:8080/"
        },
        "id": "5IqOyBBayQHO",
        "outputId": "e48f97f8-c44f-4bc6-9a78-e6960f773bc1"
      },
      "execution_count": 29,
      "outputs": [
        {
          "output_type": "stream",
          "name": "stdout",
          "text": [
            "Writing p5_example.py\n"
          ]
        }
      ]
    },
    {
      "cell_type": "code",
      "source": [
        "!python p5_example.py"
      ],
      "metadata": {
        "colab": {
          "base_uri": "https://localhost:8080/"
        },
        "id": "joJvWIZ19nDT",
        "outputId": "c055f84a-5633-49f4-bc3a-7612e32f8c99"
      },
      "execution_count": 30,
      "outputs": [
        {
          "output_type": "stream",
          "name": "stdout",
          "text": [
            "> Running iteration 0 ...\n",
            "> Running iteration 1 ...\n",
            "> Running iteration 2 ...\n",
            "Current length = 6\n",
            "> Running iteration 0 ...\n",
            "> Running iteration 1 ...\n",
            "Current length = 2\n",
            "> Running iteration 0 ...\n",
            "> Running iteration 1 ...\n",
            "> Running iteration 2 ...\n",
            "def f(x0):\n",
            "    v2 = x0 - 1\n",
            "    v3 = x0 | v2\n",
            "    return v3\n"
          ]
        }
      ]
    },
    {
      "cell_type": "code",
      "source": [
        "# test.py\n",
        "%%writefile test.py\n",
        "import time\n",
        "import inspect\n",
        "import z3\n",
        "from synthesis import Synthesizer\n",
        "\n",
        "# List of test cases with various constraints, including P1 to P9 examples\n",
        "test_cases = [\n",
        "    (1, lambda y, x: y == (x - 1) | x),    # P5: Decrement OR\n",
        "]\n",
        "\n",
        "# Run each test case\n",
        "for i, (arity, constraint) in enumerate(test_cases):\n",
        "    print(f'\\nTesting constraint #{i+1} ...')\n",
        "    synth = Synthesizer(arity, constraint)\n",
        "\n",
        "    program = None\n",
        "    length = None\n",
        "    while True:\n",
        "        t0 = time.time()\n",
        "        newprog = synth.synthesize(max_len=length)\n",
        "        if newprog is None: break\n",
        "        program = newprog\n",
        "        length = program.sloc - 1\n",
        "        print(f'Current length = {program.sloc}')\n",
        "        print(program)\n",
        "        print('%.2f seconds used.' % (time.time() - t0))\n",
        "\n",
        "    if program:\n",
        "        print(f\"Test #{i+1} succeeded:\\n{program}\")\n",
        "    else:\n",
        "        print(f\"Test #{i+1} failed: No valid program found.\")"
      ],
      "metadata": {
        "colab": {
          "base_uri": "https://localhost:8080/"
        },
        "id": "8ommcAyKoxQS",
        "outputId": "67a83ce7-ebbf-4217-c6e9-8317d7cbfb37"
      },
      "execution_count": 31,
      "outputs": [
        {
          "output_type": "stream",
          "name": "stdout",
          "text": [
            "Overwriting test.py\n"
          ]
        }
      ]
    },
    {
      "cell_type": "code",
      "source": [
        "# Run the test\n",
        "!python test.py"
      ],
      "metadata": {
        "colab": {
          "base_uri": "https://localhost:8080/"
        },
        "id": "m2UtDhkcp6cm",
        "outputId": "f0c8cfea-6907-4aee-c71a-94f1d1786c70"
      },
      "execution_count": 32,
      "outputs": [
        {
          "output_type": "stream",
          "name": "stdout",
          "text": [
            "\n",
            "Testing constraint #1 ...\n",
            "> Running iteration 0 ...\n",
            "> Running iteration 1 ...\n",
            "> Running iteration 2 ...\n",
            "Current length = 6\n",
            "def f(x0):\n",
            "    v0 = -((unsigned)x0 > (unsigned)x0)\n",
            "    v1 = ~v0\n",
            "    v2 = v1 ^ v1\n",
            "    v5 = v2 + 1\n",
            "    v6 = x0 - v5\n",
            "    v7 = x0 | v6\n",
            "    return v7\n",
            "11.34 seconds used.\n",
            "> Running iteration 0 ...\n",
            "> Running iteration 1 ...\n",
            "Current length = 2\n",
            "def f(x0):\n",
            "    v2 = x0 - 1\n",
            "    v3 = x0 | v2\n",
            "    return v3\n",
            "1.72 seconds used.\n",
            "> Running iteration 0 ...\n",
            "> Running iteration 1 ...\n",
            "> Running iteration 2 ...\n",
            "Test #1 succeeded:\n",
            "def f(x0):\n",
            "    v2 = x0 - 1\n",
            "    v3 = x0 | v2\n",
            "    return v3\n"
          ]
        }
      ]
    },
    {
      "cell_type": "markdown",
      "source": [
        "---"
      ],
      "metadata": {
        "id": "lpGe7wFryeXm"
      }
    },
    {
      "cell_type": "markdown",
      "source": [
        "----"
      ],
      "metadata": {
        "id": "F1iaNE7L1HIR"
      }
    },
    {
      "cell_type": "markdown",
      "source": [
        "##**P6**"
      ],
      "metadata": {
        "id": "CY43tl0Kuqrx"
      }
    },
    {
      "cell_type": "markdown",
      "source": [
        "**P6(x) :** Turn on the rightmost 0-bit in a word   \n",
        "1 o1:=bvadd (x,1)   \n",
        "2 res:=bvor (x,o1)"
      ],
      "metadata": {
        "id": "Q02G7GAatvK3"
      }
    },
    {
      "cell_type": "code",
      "source": [
        "# p6_example.py\n",
        "%%writefile p6_example.py\n",
        "import synthesis\n",
        "import z3\n",
        "\n",
        "# Define the specification for P6\n",
        "specification = lambda y, x: y == (x + 1) | x\n",
        "\n",
        "# Create the synthesizer with 1 input\n",
        "synth = synthesis.Synthesizer(1, specification)\n",
        "\n",
        "# Synthesize the shortest program that matches the specification\n",
        "program = synth.synthesize_shortest()\n",
        "\n",
        "# Print the synthesized program\n",
        "if program:\n",
        "    print(program)\n",
        "else:\n",
        "    print(\"No valid program found.\")\n"
      ],
      "metadata": {
        "colab": {
          "base_uri": "https://localhost:8080/"
        },
        "id": "nDsZnhHJyQl_",
        "outputId": "f9cf13c8-ebd2-4d98-8aa4-9778129e5184"
      },
      "execution_count": 33,
      "outputs": [
        {
          "output_type": "stream",
          "name": "stdout",
          "text": [
            "Writing p6_example.py\n"
          ]
        }
      ]
    },
    {
      "cell_type": "code",
      "source": [
        "!python p6_example.py"
      ],
      "metadata": {
        "colab": {
          "base_uri": "https://localhost:8080/"
        },
        "id": "zaGDlcrz9oqK",
        "outputId": "cbc78674-d83a-4200-ff18-034a8ba1227a"
      },
      "execution_count": 34,
      "outputs": [
        {
          "output_type": "stream",
          "name": "stdout",
          "text": [
            "> Running iteration 0 ...\n",
            "> Running iteration 1 ...\n",
            "> Running iteration 2 ...\n",
            "> Running iteration 3 ...\n",
            "Current length = 3\n",
            "> Running iteration 0 ...\n",
            "> Running iteration 1 ...\n",
            "> Running iteration 2 ...\n",
            "> Running iteration 3 ...\n",
            "Current length = 2\n",
            "> Running iteration 0 ...\n",
            "> Running iteration 1 ...\n",
            "> Running iteration 2 ...\n",
            "def f(x0):\n",
            "    v0 = x0 + 1\n",
            "    v1 = x0 | v0\n",
            "    return v1\n"
          ]
        }
      ]
    },
    {
      "cell_type": "code",
      "source": [
        "# test.py\n",
        "%%writefile test.py\n",
        "import time\n",
        "import inspect\n",
        "import z3\n",
        "from synthesis import Synthesizer\n",
        "\n",
        "# List of test cases with various constraints, including P1 to P9 examples\n",
        "test_cases = [\n",
        "    (1, lambda y, x: y == (x + 1) | x),    # P6: Increment OR\n",
        "]\n",
        "\n",
        "# Run each test case\n",
        "for i, (arity, constraint) in enumerate(test_cases):\n",
        "    print(f'\\nTesting constraint #{i+1} ...')\n",
        "    synth = Synthesizer(arity, constraint)\n",
        "\n",
        "    program = None\n",
        "    length = None\n",
        "    while True:\n",
        "        t0 = time.time()\n",
        "        newprog = synth.synthesize(max_len=length)\n",
        "        if newprog is None: break\n",
        "        program = newprog\n",
        "        length = program.sloc - 1\n",
        "        print(f'Current length = {program.sloc}')\n",
        "        print(program)\n",
        "        print('%.2f seconds used.' % (time.time() - t0))\n",
        "\n",
        "    if program:\n",
        "        print(f\"Test #{i+1} succeeded:\\n{program}\")\n",
        "    else:\n",
        "        print(f\"Test #{i+1} failed: No valid program found.\")\n"
      ],
      "metadata": {
        "colab": {
          "base_uri": "https://localhost:8080/"
        },
        "id": "xUCA8KU5o3uE",
        "outputId": "47217f9e-885c-4071-bf49-7a036f5f7513"
      },
      "execution_count": 35,
      "outputs": [
        {
          "output_type": "stream",
          "name": "stdout",
          "text": [
            "Overwriting test.py\n"
          ]
        }
      ]
    },
    {
      "cell_type": "code",
      "source": [
        "# Run the test\n",
        "!python test.py"
      ],
      "metadata": {
        "colab": {
          "base_uri": "https://localhost:8080/"
        },
        "id": "IVqBMqazp8C6",
        "outputId": "1c559dad-8dbf-472e-f98e-d26a82d37239"
      },
      "execution_count": 36,
      "outputs": [
        {
          "output_type": "stream",
          "name": "stdout",
          "text": [
            "\n",
            "Testing constraint #1 ...\n",
            "> Running iteration 0 ...\n",
            "> Running iteration 1 ...\n",
            "> Running iteration 2 ...\n",
            "> Running iteration 3 ...\n",
            "Current length = 3\n",
            "def f(x0):\n",
            "    v0 = x0 + 1\n",
            "    v9 = v0 & v0\n",
            "    v10 = v9 | x0\n",
            "    return v10\n",
            "7.94 seconds used.\n",
            "> Running iteration 0 ...\n",
            "> Running iteration 1 ...\n",
            "> Running iteration 2 ...\n",
            "> Running iteration 3 ...\n",
            "Current length = 2\n",
            "def f(x0):\n",
            "    v0 = x0 + 1\n",
            "    v1 = x0 | v0\n",
            "    return v1\n",
            "7.80 seconds used.\n",
            "> Running iteration 0 ...\n",
            "> Running iteration 1 ...\n",
            "> Running iteration 2 ...\n",
            "Test #1 succeeded:\n",
            "def f(x0):\n",
            "    v0 = x0 + 1\n",
            "    v1 = x0 | v0\n",
            "    return v1\n"
          ]
        }
      ]
    },
    {
      "cell_type": "markdown",
      "source": [
        "---"
      ],
      "metadata": {
        "id": "owuqg53MyhfM"
      }
    },
    {
      "cell_type": "markdown",
      "source": [
        "----"
      ],
      "metadata": {
        "id": "VUUGMX6c1TlS"
      }
    },
    {
      "cell_type": "markdown",
      "source": [
        "##**P7**"
      ],
      "metadata": {
        "id": "Xn4M5uT3unpC"
      }
    },
    {
      "cell_type": "markdown",
      "source": [
        "**P7(x) :** Isolate the rightmost 0-bit   \n",
        "1 o1:=bvnot (x)   \n",
        "2 o2:=bvadd (x,1)   \n",
        "3 res:=bvand (o1,o2)"
      ],
      "metadata": {
        "id": "qBe6SDIJt1zn"
      }
    },
    {
      "cell_type": "code",
      "source": [
        "# p7_example.py\n",
        "%%writefile p7_example.py\n",
        "import synthesis\n",
        "import z3\n",
        "\n",
        "# Define the specification for P7\n",
        "specification = lambda y, x: y == ~x & (x + 1)\n",
        "\n",
        "# Create the synthesizer with 1 input\n",
        "synth = synthesis.Synthesizer(1, specification)\n",
        "\n",
        "# Synthesize the shortest program that matches the specification\n",
        "program = synth.synthesize_shortest()\n",
        "\n",
        "# Print the synthesized program\n",
        "if program:\n",
        "    print(program)\n",
        "else:\n",
        "    print(\"No valid program found.\")\n"
      ],
      "metadata": {
        "colab": {
          "base_uri": "https://localhost:8080/"
        },
        "id": "Bt4CZiIDyRAw",
        "outputId": "a84095f0-e3e1-4d67-cfd0-f6271052ada9"
      },
      "execution_count": 37,
      "outputs": [
        {
          "output_type": "stream",
          "name": "stdout",
          "text": [
            "Writing p7_example.py\n"
          ]
        }
      ]
    },
    {
      "cell_type": "code",
      "source": [
        "!python p7_example.py"
      ],
      "metadata": {
        "colab": {
          "base_uri": "https://localhost:8080/"
        },
        "id": "Efqd2RFL9qog",
        "outputId": "e7e406ca-da9a-47ad-b509-9d1f3390b86c"
      },
      "execution_count": 38,
      "outputs": [
        {
          "output_type": "stream",
          "name": "stdout",
          "text": [
            "> Running iteration 0 ...\n",
            "> Running iteration 1 ...\n",
            "> Running iteration 2 ...\n",
            "> Running iteration 3 ...\n",
            "> Running iteration 4 ...\n",
            "Current length = 4\n",
            "> Running iteration 0 ...\n",
            "> Running iteration 1 ...\n",
            "> Running iteration 2 ...\n",
            "> Running iteration 3 ...\n",
            "Current length = 3\n",
            "> Running iteration 0 ...\n",
            "> Running iteration 1 ...\n",
            "> Running iteration 2 ...\n",
            "> Running iteration 3 ...\n",
            "def f(x0):\n",
            "    v0 = x0 + 1\n",
            "    v1 = ~x0\n",
            "    v2 = v0 & v1\n",
            "    return v2\n"
          ]
        }
      ]
    },
    {
      "cell_type": "code",
      "source": [
        "# test.py\n",
        "%%writefile test.py\n",
        "import time\n",
        "import inspect\n",
        "import z3\n",
        "from synthesis import Synthesizer\n",
        "\n",
        "# List of test cases with various constraints, including P1 to P9 examples\n",
        "test_cases = [\n",
        "    (1, lambda y, x: y == ~x & (x + 1)),   # P7: NOT x AND (x + 1)\n",
        "]\n",
        "\n",
        "# Run each test case\n",
        "for i, (arity, constraint) in enumerate(test_cases):\n",
        "    print(f'\\nTesting constraint #{i+1} ...')\n",
        "    synth = Synthesizer(arity, constraint)\n",
        "\n",
        "    program = None\n",
        "    length = None\n",
        "    while True:\n",
        "        t0 = time.time()\n",
        "        newprog = synth.synthesize(max_len=length)\n",
        "        if newprog is None: break\n",
        "        program = newprog\n",
        "        length = program.sloc - 1\n",
        "        print(f'Current length = {program.sloc}')\n",
        "        print(program)\n",
        "        print('%.2f seconds used.' % (time.time() - t0))\n",
        "\n",
        "    if program:\n",
        "        print(f\"Test #{i+1} succeeded:\\n{program}\")\n",
        "    else:\n",
        "        print(f\"Test #{i+1} failed: No valid program found.\")"
      ],
      "metadata": {
        "colab": {
          "base_uri": "https://localhost:8080/"
        },
        "id": "upIFx5zxo_Z-",
        "outputId": "70f09d6d-511b-4044-cdb5-176e8e76faf9"
      },
      "execution_count": 39,
      "outputs": [
        {
          "output_type": "stream",
          "name": "stdout",
          "text": [
            "Overwriting test.py\n"
          ]
        }
      ]
    },
    {
      "cell_type": "code",
      "source": [
        "# Run the test\n",
        "!python test.py"
      ],
      "metadata": {
        "colab": {
          "base_uri": "https://localhost:8080/"
        },
        "id": "F91zAwk-p9qA",
        "outputId": "73326f55-62e1-47de-c365-a4c64eeedff1"
      },
      "execution_count": 40,
      "outputs": [
        {
          "output_type": "stream",
          "name": "stdout",
          "text": [
            "\n",
            "Testing constraint #1 ...\n",
            "> Running iteration 0 ...\n",
            "> Running iteration 1 ...\n",
            "> Running iteration 2 ...\n",
            "> Running iteration 3 ...\n",
            "> Running iteration 4 ...\n",
            "Current length = 4\n",
            "def f(x0):\n",
            "    v0 = ~x0\n",
            "    v2 = v0 - 1\n",
            "    v3 = v0 ^ v2\n",
            "    v8 = v3 & v0\n",
            "    return v8\n",
            "27.42 seconds used.\n",
            "> Running iteration 0 ...\n",
            "> Running iteration 1 ...\n",
            "> Running iteration 2 ...\n",
            "> Running iteration 3 ...\n",
            "Current length = 3\n",
            "def f(x0):\n",
            "    v0 = x0 + 1\n",
            "    v1 = ~x0\n",
            "    v2 = v0 & v1\n",
            "    return v2\n",
            "13.81 seconds used.\n",
            "> Running iteration 0 ...\n",
            "> Running iteration 1 ...\n",
            "> Running iteration 2 ...\n",
            "> Running iteration 3 ...\n",
            "Test #1 succeeded:\n",
            "def f(x0):\n",
            "    v0 = x0 + 1\n",
            "    v1 = ~x0\n",
            "    v2 = v0 & v1\n",
            "    return v2\n"
          ]
        }
      ]
    },
    {
      "cell_type": "markdown",
      "source": [
        "---"
      ],
      "metadata": {
        "id": "fdGg-vIuyku5"
      }
    },
    {
      "cell_type": "markdown",
      "source": [
        "----"
      ],
      "metadata": {
        "id": "iWDONR-H1WfB"
      }
    },
    {
      "cell_type": "markdown",
      "source": [
        "##**P8**"
      ],
      "metadata": {
        "id": "o0WAQTt6ug53"
      }
    },
    {
      "cell_type": "markdown",
      "source": [
        "**P8(x) :** Form a mask that identifies the trailing 0’s   \n",
        "1 o1:=bvsub (x,1)   \n",
        "2 o2:=bvnot (x)   \n",
        "3 res:=bvand (o1,o2)"
      ],
      "metadata": {
        "id": "VyuJc5P1t9-1"
      }
    },
    {
      "cell_type": "code",
      "source": [
        "# p8_example.py\n",
        "%%writefile p8_example.py\n",
        "import synthesis\n",
        "import z3\n",
        "\n",
        "# Define the specification for P8\n",
        "specification = lambda y, x: y == (x - 1) & ~x\n",
        "\n",
        "# Create the synthesizer with 1 input\n",
        "synth = synthesis.Synthesizer(1, specification)\n",
        "\n",
        "# Synthesize the shortest program that matches the specification\n",
        "program = synth.synthesize_shortest()\n",
        "\n",
        "# Print the synthesized program\n",
        "if program:\n",
        "    print(program)\n",
        "else:\n",
        "    print(\"No valid program found.\")\n"
      ],
      "metadata": {
        "colab": {
          "base_uri": "https://localhost:8080/"
        },
        "id": "rqSy8y6myRYp",
        "outputId": "e2e13cb2-eb72-4bc4-fbbc-31fcbdf87b0f"
      },
      "execution_count": 41,
      "outputs": [
        {
          "output_type": "stream",
          "name": "stdout",
          "text": [
            "Writing p8_example.py\n"
          ]
        }
      ]
    },
    {
      "cell_type": "code",
      "source": [
        "!python p8_example.py"
      ],
      "metadata": {
        "colab": {
          "base_uri": "https://localhost:8080/"
        },
        "id": "c0gUXT-S9sgQ",
        "outputId": "12b14946-5c8b-4c9e-f1ce-7fe32a9e9a62"
      },
      "execution_count": 42,
      "outputs": [
        {
          "output_type": "stream",
          "name": "stdout",
          "text": [
            "> Running iteration 0 ...\n",
            "> Running iteration 1 ...\n",
            "> Running iteration 2 ...\n",
            "> Running iteration 3 ...\n",
            "Current length = 4\n",
            "> Running iteration 0 ...\n",
            "> Running iteration 1 ...\n",
            "> Running iteration 2 ...\n",
            "def f(x0):\n",
            "    v0 = x0 & x0\n",
            "    v7 = x0 - 1\n",
            "    v9 = v7 | v0\n",
            "    v10 = v9 - x0\n",
            "    return v10\n"
          ]
        }
      ]
    },
    {
      "cell_type": "code",
      "source": [
        "# test.py\n",
        "%%writefile test.py\n",
        "import time\n",
        "import inspect\n",
        "import z3\n",
        "from synthesis import Synthesizer\n",
        "\n",
        "# List of test cases with various constraints, including P1 to P9 examples\n",
        "test_cases = [\n",
        "    (1, lambda y, x: y == (x - 1) & ~x),   # P8: Decrement AND NOT x\n",
        "]\n",
        "\n",
        "# Run each test case\n",
        "for i, (arity, constraint) in enumerate(test_cases):\n",
        "    print(f'\\nTesting constraint #{i+1} ...')\n",
        "    synth = Synthesizer(arity, constraint)\n",
        "\n",
        "    program = None\n",
        "    length = None\n",
        "    while True:\n",
        "        t0 = time.time()\n",
        "        newprog = synth.synthesize(max_len=length)\n",
        "        if newprog is None: break\n",
        "        program = newprog\n",
        "        length = program.sloc - 1\n",
        "        print(f'Current length = {program.sloc}')\n",
        "        print(program)\n",
        "        print('%.2f seconds used.' % (time.time() - t0))\n",
        "\n",
        "    if program:\n",
        "        print(f\"Test #{i+1} succeeded:\\n{program}\")\n",
        "    else:\n",
        "        print(f\"Test #{i+1} failed: No valid program found.\")"
      ],
      "metadata": {
        "colab": {
          "base_uri": "https://localhost:8080/"
        },
        "id": "iTzwmBeTpFld",
        "outputId": "b088851d-0c79-4b57-9802-c4fcda994a10"
      },
      "execution_count": 43,
      "outputs": [
        {
          "output_type": "stream",
          "name": "stdout",
          "text": [
            "Overwriting test.py\n"
          ]
        }
      ]
    },
    {
      "cell_type": "code",
      "source": [
        "# Run the test\n",
        "!python test.py"
      ],
      "metadata": {
        "colab": {
          "base_uri": "https://localhost:8080/"
        },
        "id": "wgGAtx8Mp-_q",
        "outputId": "14949920-4611-4035-ce22-9fbf490b64d7"
      },
      "execution_count": 44,
      "outputs": [
        {
          "output_type": "stream",
          "name": "stdout",
          "text": [
            "\n",
            "Testing constraint #1 ...\n",
            "> Running iteration 0 ...\n",
            "> Running iteration 1 ...\n",
            "> Running iteration 2 ...\n",
            "> Running iteration 3 ...\n",
            "Current length = 4\n",
            "def f(x0):\n",
            "    v0 = x0 & x0\n",
            "    v7 = x0 - 1\n",
            "    v9 = v7 | v0\n",
            "    v10 = v9 - x0\n",
            "    return v10\n",
            "6.03 seconds used.\n",
            "> Running iteration 0 ...\n",
            "> Running iteration 1 ...\n",
            "> Running iteration 2 ...\n",
            "Test #1 succeeded:\n",
            "def f(x0):\n",
            "    v0 = x0 & x0\n",
            "    v7 = x0 - 1\n",
            "    v9 = v7 | v0\n",
            "    v10 = v9 - x0\n",
            "    return v10\n"
          ]
        }
      ]
    },
    {
      "cell_type": "markdown",
      "source": [
        "---"
      ],
      "metadata": {
        "id": "rYqMoskzyoKQ"
      }
    },
    {
      "cell_type": "markdown",
      "source": [
        "----"
      ],
      "metadata": {
        "id": "MrFyWp0h1Yb4"
      }
    },
    {
      "cell_type": "markdown",
      "source": [
        "##**P9**"
      ],
      "metadata": {
        "id": "KpsBvB-5uSJo"
      }
    },
    {
      "cell_type": "markdown",
      "source": [
        "**P9(x) :**Absolute Value Function   \n",
        "1 o1:=bvshr (x,31)   \n",
        "2 o2:=bvxor (x,o1)   \n",
        "3 res:=bvsub (o2,o1)"
      ],
      "metadata": {
        "id": "VxTLiTbEuE9o"
      }
    },
    {
      "cell_type": "code",
      "source": [
        "# p9_example.py\n",
        "%%writefile p9_example.py\n",
        "import synthesis\n",
        "import z3\n",
        "\n",
        "# Define the specification for P9\n",
        "specification = lambda y, x: y == (x ^ (x >> 31)) - (x >> 31)\n",
        "\n",
        "# Create the synthesizer with 1 input\n",
        "synth = synthesis.Synthesizer(1, specification)\n",
        "\n",
        "# Synthesize the shortest program that matches the specification\n",
        "program = synth.synthesize_shortest()\n",
        "\n",
        "# Print the synthesized program\n",
        "if program:\n",
        "    print(program)\n",
        "else:\n",
        "    print(\"No valid program found.\")\n"
      ],
      "metadata": {
        "colab": {
          "base_uri": "https://localhost:8080/"
        },
        "id": "ghkZ1aroyR8J",
        "outputId": "b7868253-b892-466f-f3f7-c97434b8f5fe"
      },
      "execution_count": 45,
      "outputs": [
        {
          "output_type": "stream",
          "name": "stdout",
          "text": [
            "Writing p9_example.py\n"
          ]
        }
      ]
    },
    {
      "cell_type": "code",
      "source": [
        "!python p9_example.py"
      ],
      "metadata": {
        "colab": {
          "base_uri": "https://localhost:8080/"
        },
        "id": "SI_OkTt19u_M",
        "outputId": "3e4f0960-f915-443d-d24c-49b5c491a397"
      },
      "execution_count": 46,
      "outputs": [
        {
          "output_type": "stream",
          "name": "stdout",
          "text": [
            "> Running iteration 0 ...\n",
            "> Running iteration 1 ...\n",
            "> Running iteration 2 ...\n",
            "Current length = 8\n",
            "> Running iteration 0 ...\n",
            "> Running iteration 1 ...\n",
            "> Running iteration 2 ...\n",
            "Current length = 5\n",
            "> Running iteration 0 ...\n",
            "> Running iteration 1 ...\n",
            "> Running iteration 2 ...\n",
            "def f(x0):\n",
            "    v0 = x0 | x0\n",
            "    v1 = x0 >> 31\n",
            "    v3 = v0 - v1\n",
            "    v4 = -((unsigned)v0 > (unsigned)v3)\n",
            "    v5 = v4 ^ v3\n",
            "    return v5\n"
          ]
        }
      ]
    },
    {
      "cell_type": "code",
      "source": [
        "# test.py\n",
        "%%writefile test.py\n",
        "import time\n",
        "import inspect\n",
        "import z3\n",
        "from synthesis import Synthesizer\n",
        "\n",
        "# List of test cases with various constraints, including P1 to P9 examples\n",
        "test_cases = [\n",
        "    (1, lambda y, x: y == (x ^ (x >> 31)) - (x >> 31)),  # P9: XOR and shift\n",
        "]\n",
        "\n",
        "# Run each test case\n",
        "for i, (arity, constraint) in enumerate(test_cases):\n",
        "    print(f'\\nTesting constraint #{i+1} ...')\n",
        "    synth = Synthesizer(arity, constraint)\n",
        "\n",
        "    program = None\n",
        "    length = None\n",
        "    while True:\n",
        "        t0 = time.time()\n",
        "        newprog = synth.synthesize(max_len=length)\n",
        "        if newprog is None: break\n",
        "        program = newprog\n",
        "        length = program.sloc - 1\n",
        "        print(f'Current length = {program.sloc}')\n",
        "        print(program)\n",
        "        print('%.2f seconds used.' % (time.time() - t0))\n",
        "\n",
        "    if program:\n",
        "        print(f\"Test #{i+1} succeeded:\\n{program}\")\n",
        "    else:\n",
        "        print(f\"Test #{i+1} failed: No valid program found.\")"
      ],
      "metadata": {
        "colab": {
          "base_uri": "https://localhost:8080/"
        },
        "id": "XSPvy_IjpKE6",
        "outputId": "97bf16cd-1e75-4d18-c03b-8a7f4f0adad2"
      },
      "execution_count": 47,
      "outputs": [
        {
          "output_type": "stream",
          "name": "stdout",
          "text": [
            "Overwriting test.py\n"
          ]
        }
      ]
    },
    {
      "cell_type": "code",
      "source": [
        "# Run the test\n",
        "!python test.py"
      ],
      "metadata": {
        "colab": {
          "base_uri": "https://localhost:8080/"
        },
        "id": "Q9ztbxLtqAVn",
        "outputId": "0458e9b0-05c3-4a30-a210-4560b405cf64"
      },
      "execution_count": 48,
      "outputs": [
        {
          "output_type": "stream",
          "name": "stdout",
          "text": [
            "\n",
            "Testing constraint #1 ...\n",
            "> Running iteration 0 ...\n",
            "> Running iteration 1 ...\n",
            "> Running iteration 2 ...\n",
            "Current length = 8\n",
            "def f(x0):\n",
            "    v0 = x0 >> 31\n",
            "    v1 = -((unsigned)v0 > (unsigned)x0)\n",
            "    v2 = -((unsigned)v0 <= (unsigned)v1)\n",
            "    v3 = ~v2\n",
            "    v7 = x0 | v3\n",
            "    v9 = x0 - 1\n",
            "    v10 = v3 & v9\n",
            "    v11 = v7 - v10\n",
            "    return v11\n",
            "23.07 seconds used.\n",
            "> Running iteration 0 ...\n",
            "> Running iteration 1 ...\n",
            "> Running iteration 2 ...\n",
            "Current length = 5\n",
            "def f(x0):\n",
            "    v0 = x0 | x0\n",
            "    v1 = x0 >> 31\n",
            "    v3 = v0 - v1\n",
            "    v4 = -((unsigned)v0 > (unsigned)v3)\n",
            "    v5 = v4 ^ v3\n",
            "    return v5\n",
            "15.34 seconds used.\n",
            "> Running iteration 0 ...\n",
            "> Running iteration 1 ...\n",
            "> Running iteration 2 ...\n",
            "Test #1 succeeded:\n",
            "def f(x0):\n",
            "    v0 = x0 | x0\n",
            "    v1 = x0 >> 31\n",
            "    v3 = v0 - v1\n",
            "    v4 = -((unsigned)v0 > (unsigned)v3)\n",
            "    v5 = v4 ^ v3\n",
            "    return v5\n"
          ]
        }
      ]
    }
  ]
}